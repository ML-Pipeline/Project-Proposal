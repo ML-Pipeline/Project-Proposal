{
  "nbformat": 4,
  "nbformat_minor": 0,
  "metadata": {
    "colab": {
      "name": "ML Pipeline Project.ipynb",
      "provenance": []
    },
    "kernelspec": {
      "name": "python3",
      "display_name": "Python 3"
    }
  },
  "cells": [
    {
      "cell_type": "code",
      "metadata": {
        "id": "SBPiUcMNRoHV",
        "colab_type": "code",
        "colab": {}
      },
      "source": [
        "### Applied Machine Learning Pipeline 95-845 #######\n",
        "### Analysis of Bitcoin Profitability using exponential smoothening, RNN and LSTM ####\n",
        "### Submitted by: Malvika Singh, Prakhar Mishra, Simran Handa\n",
        "### The code proceeds through \n",
        "### 1. Data Preprocessing \n",
        "### 2. Training the model on RNN, predicting results for RNN  \n",
        "### 3. Performing the above steps for LSTM.\n",
        "### 4. Evaluated the models using RMSE \n",
        "\n",
        "### We have also performed Exploratory Data Analysis in R \n",
        "### Those results are attached in other section"
      ],
      "execution_count": 0,
      "outputs": []
    },
    {
      "cell_type": "code",
      "metadata": {
        "id": "yqplbbBmsZUO",
        "colab_type": "code",
        "outputId": "d2733ba1-b919-4e3e-e7f4-0eca385eb41c",
        "colab": {
          "base_uri": "https://localhost:8080/",
          "height": 81
        }
      },
      "source": [
        "## Importing required libraries for Data Preprocessing and Modeling\n",
        "from math import sqrt\n",
        "from numpy import concatenate\n",
        "from matplotlib import pyplot\n",
        "import pandas as pd\n",
        "from datetime import datetime\n",
        "from sklearn.preprocessing import MinMaxScaler\n",
        "from sklearn.preprocessing import LabelEncoder\n",
        "from sklearn.metrics import mean_squared_error\n",
        "from keras.models import Sequential\n",
        "from keras.layers import Dense\n",
        "from keras.layers import LSTM\n",
        "import plotly.offline as py\n",
        "import plotly.graph_objs as go\n",
        "import numpy as np\n",
        "import seaborn as sns\n",
        "py.init_notebook_mode(connected=True)\n",
        "%matplotlib inline"
      ],
      "execution_count": 3,
      "outputs": [
        {
          "output_type": "stream",
          "text": [
            "Using TensorFlow backend.\n"
          ],
          "name": "stderr"
        },
        {
          "output_type": "display_data",
          "data": {
            "text/html": [
              "<p style=\"color: red;\">\n",
              "The default version of TensorFlow in Colab will soon switch to TensorFlow 2.x.<br>\n",
              "We recommend you <a href=\"https://www.tensorflow.org/guide/migrate\" target=\"_blank\">upgrade</a> now \n",
              "or ensure your notebook will continue to use TensorFlow 1.x via the <code>%tensorflow_version 1.x</code> magic:\n",
              "<a href=\"https://colab.research.google.com/notebooks/tensorflow_version.ipynb\" target=\"_blank\">more info</a>.</p>\n"
            ],
            "text/plain": [
              "<IPython.core.display.HTML object>"
            ]
          },
          "metadata": {
            "tags": []
          }
        },
        {
          "output_type": "display_data",
          "data": {
            "text/html": [
              "        <script type=\"text/javascript\">\n",
              "        window.PlotlyConfig = {MathJaxConfig: 'local'};\n",
              "        if (window.MathJax) {MathJax.Hub.Config({SVG: {font: \"STIX-Web\"}});}\n",
              "        if (typeof require !== 'undefined') {\n",
              "        require.undef(\"plotly\");\n",
              "        requirejs.config({\n",
              "            paths: {\n",
              "                'plotly': ['https://cdn.plot.ly/plotly-latest.min']\n",
              "            }\n",
              "        });\n",
              "        require(['plotly'], function(Plotly) {\n",
              "            window._Plotly = Plotly;\n",
              "        });\n",
              "        }\n",
              "        </script>\n",
              "        "
            ]
          },
          "metadata": {
            "tags": []
          }
        }
      ]
    },
    {
      "cell_type": "code",
      "metadata": {
        "id": "m7XbF72HRzxx",
        "colab_type": "code",
        "outputId": "0e5c873a-ee50-45da-ec5e-f2e65d8d308f",
        "colab": {
          "resources": {
            "http://localhost:8080/nbextensions/google.colab/files.js": {
              "data": "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",
              "ok": true,
              "headers": [
                [
                  "content-type",
                  "application/javascript"
                ]
              ],
              "status": 200,
              "status_text": ""
            }
          },
          "base_uri": "https://localhost:8080/",
          "height": 75
        }
      },
      "source": [
        "## Uploading data from source ####\n",
        "from google.colab import files\n",
        "uploaded = files.upload()"
      ],
      "execution_count": 5,
      "outputs": [
        {
          "output_type": "display_data",
          "data": {
            "text/html": [
              "\n",
              "     <input type=\"file\" id=\"files-1da086a0-87dd-4f8a-ae3f-cbeb06083659\" name=\"files[]\" multiple disabled />\n",
              "     <output id=\"result-1da086a0-87dd-4f8a-ae3f-cbeb06083659\">\n",
              "      Upload widget is only available when the cell has been executed in the\n",
              "      current browser session. Please rerun this cell to enable.\n",
              "      </output>\n",
              "      <script src=\"/nbextensions/google.colab/files.js\"></script> "
            ],
            "text/plain": [
              "<IPython.core.display.HTML object>"
            ]
          },
          "metadata": {
            "tags": []
          }
        },
        {
          "output_type": "stream",
          "text": [
            "Saving data2.csv to data2.csv\n"
          ],
          "name": "stdout"
        }
      ]
    },
    {
      "cell_type": "code",
      "metadata": {
        "id": "eq3ZhtalUHeW",
        "colab_type": "code",
        "outputId": "7cb0c916-aa18-43b1-fa89-61be691ae052",
        "colab": {
          "base_uri": "https://localhost:8080/",
          "height": 203
        }
      },
      "source": [
        "### Reading data \n",
        "import io\n",
        "df2 = pd.read_csv(io.BytesIO(uploaded['data2.csv']))\n",
        "df2.head()"
      ],
      "execution_count": 6,
      "outputs": [
        {
          "output_type": "execute_result",
          "data": {
            "text/html": [
              "<div>\n",
              "<style scoped>\n",
              "    .dataframe tbody tr th:only-of-type {\n",
              "        vertical-align: middle;\n",
              "    }\n",
              "\n",
              "    .dataframe tbody tr th {\n",
              "        vertical-align: top;\n",
              "    }\n",
              "\n",
              "    .dataframe thead th {\n",
              "        text-align: right;\n",
              "    }\n",
              "</style>\n",
              "<table border=\"1\" class=\"dataframe\">\n",
              "  <thead>\n",
              "    <tr style=\"text-align: right;\">\n",
              "      <th></th>\n",
              "      <th>Timestamp</th>\n",
              "      <th>Open</th>\n",
              "      <th>High</th>\n",
              "      <th>Low</th>\n",
              "      <th>Close</th>\n",
              "      <th>Volume (BTC)</th>\n",
              "      <th>Volume (Currency)</th>\n",
              "      <th>Weighted Price</th>\n",
              "    </tr>\n",
              "  </thead>\n",
              "  <tbody>\n",
              "    <tr>\n",
              "      <th>0</th>\n",
              "      <td>1325317920</td>\n",
              "      <td>4.39</td>\n",
              "      <td>4.39</td>\n",
              "      <td>4.39</td>\n",
              "      <td>4.39</td>\n",
              "      <td>0.455581</td>\n",
              "      <td>2.0</td>\n",
              "      <td>4.39</td>\n",
              "    </tr>\n",
              "    <tr>\n",
              "      <th>1</th>\n",
              "      <td>1325317980</td>\n",
              "      <td>NaN</td>\n",
              "      <td>NaN</td>\n",
              "      <td>NaN</td>\n",
              "      <td>NaN</td>\n",
              "      <td>NaN</td>\n",
              "      <td>NaN</td>\n",
              "      <td>NaN</td>\n",
              "    </tr>\n",
              "    <tr>\n",
              "      <th>2</th>\n",
              "      <td>1325318040</td>\n",
              "      <td>NaN</td>\n",
              "      <td>NaN</td>\n",
              "      <td>NaN</td>\n",
              "      <td>NaN</td>\n",
              "      <td>NaN</td>\n",
              "      <td>NaN</td>\n",
              "      <td>NaN</td>\n",
              "    </tr>\n",
              "    <tr>\n",
              "      <th>3</th>\n",
              "      <td>1325318100</td>\n",
              "      <td>NaN</td>\n",
              "      <td>NaN</td>\n",
              "      <td>NaN</td>\n",
              "      <td>NaN</td>\n",
              "      <td>NaN</td>\n",
              "      <td>NaN</td>\n",
              "      <td>NaN</td>\n",
              "    </tr>\n",
              "    <tr>\n",
              "      <th>4</th>\n",
              "      <td>1325318160</td>\n",
              "      <td>NaN</td>\n",
              "      <td>NaN</td>\n",
              "      <td>NaN</td>\n",
              "      <td>NaN</td>\n",
              "      <td>NaN</td>\n",
              "      <td>NaN</td>\n",
              "      <td>NaN</td>\n",
              "    </tr>\n",
              "  </tbody>\n",
              "</table>\n",
              "</div>"
            ],
            "text/plain": [
              "    Timestamp  Open  High  ...  Volume (BTC)  Volume (Currency)  Weighted Price\n",
              "0  1325317920  4.39  4.39  ...      0.455581                2.0            4.39\n",
              "1  1325317980   NaN   NaN  ...           NaN                NaN             NaN\n",
              "2  1325318040   NaN   NaN  ...           NaN                NaN             NaN\n",
              "3  1325318100   NaN   NaN  ...           NaN                NaN             NaN\n",
              "4  1325318160   NaN   NaN  ...           NaN                NaN             NaN\n",
              "\n",
              "[5 rows x 8 columns]"
            ]
          },
          "metadata": {
            "tags": []
          },
          "execution_count": 6
        }
      ]
    },
    {
      "cell_type": "code",
      "metadata": {
        "id": "Bb8fKxe8UZFv",
        "colab_type": "code",
        "outputId": "eb5c7244-baf2-4073-fa11-1072a3d05edf",
        "colab": {
          "base_uri": "https://localhost:8080/",
          "height": 241
        }
      },
      "source": [
        "### Basic Information about dataset ###\n",
        "## Exploratory Data Analysis ####\n",
        "df2.info()"
      ],
      "execution_count": 7,
      "outputs": [
        {
          "output_type": "stream",
          "text": [
            "<class 'pandas.core.frame.DataFrame'>\n",
            "RangeIndex: 1048575 entries, 0 to 1048574\n",
            "Data columns (total 8 columns):\n",
            "Timestamp            1048575 non-null int64\n",
            "Open                 342169 non-null float64\n",
            "High                 342169 non-null float64\n",
            "Low                  342169 non-null float64\n",
            "Close                342169 non-null float64\n",
            "Volume (BTC)         342169 non-null float64\n",
            "Volume (Currency)    342169 non-null float64\n",
            "Weighted Price       342169 non-null float64\n",
            "dtypes: float64(7), int64(1)\n",
            "memory usage: 64.0 MB\n"
          ],
          "name": "stdout"
        }
      ]
    },
    {
      "cell_type": "code",
      "metadata": {
        "id": "MPxg7QC1qCYi",
        "colab_type": "code",
        "outputId": "9908427d-5bbd-4bf3-a6c2-14e3e9f58bf2",
        "colab": {
          "base_uri": "https://localhost:8080/",
          "height": 295
        }
      },
      "source": [
        "### Data Description ####\n",
        "df2.describe()"
      ],
      "execution_count": 8,
      "outputs": [
        {
          "output_type": "execute_result",
          "data": {
            "text/html": [
              "<div>\n",
              "<style scoped>\n",
              "    .dataframe tbody tr th:only-of-type {\n",
              "        vertical-align: middle;\n",
              "    }\n",
              "\n",
              "    .dataframe tbody tr th {\n",
              "        vertical-align: top;\n",
              "    }\n",
              "\n",
              "    .dataframe thead th {\n",
              "        text-align: right;\n",
              "    }\n",
              "</style>\n",
              "<table border=\"1\" class=\"dataframe\">\n",
              "  <thead>\n",
              "    <tr style=\"text-align: right;\">\n",
              "      <th></th>\n",
              "      <th>Timestamp</th>\n",
              "      <th>Open</th>\n",
              "      <th>High</th>\n",
              "      <th>Low</th>\n",
              "      <th>Close</th>\n",
              "      <th>Volume (BTC)</th>\n",
              "      <th>Volume (Currency)</th>\n",
              "      <th>Weighted Price</th>\n",
              "    </tr>\n",
              "  </thead>\n",
              "  <tbody>\n",
              "    <tr>\n",
              "      <th>count</th>\n",
              "      <td>1.048575e+06</td>\n",
              "      <td>342169.000000</td>\n",
              "      <td>342169.000000</td>\n",
              "      <td>342169.000000</td>\n",
              "      <td>342169.000000</td>\n",
              "      <td>342169.000000</td>\n",
              "      <td>3.421690e+05</td>\n",
              "      <td>342169.000000</td>\n",
              "    </tr>\n",
              "    <tr>\n",
              "      <th>mean</th>\n",
              "      <td>1.356775e+09</td>\n",
              "      <td>229.456116</td>\n",
              "      <td>229.802477</td>\n",
              "      <td>229.064930</td>\n",
              "      <td>229.440478</td>\n",
              "      <td>16.274528</td>\n",
              "      <td>4.485655e+03</td>\n",
              "      <td>229.420213</td>\n",
              "    </tr>\n",
              "    <tr>\n",
              "      <th>std</th>\n",
              "      <td>1.816186e+07</td>\n",
              "      <td>271.716593</td>\n",
              "      <td>272.238257</td>\n",
              "      <td>271.141889</td>\n",
              "      <td>271.711086</td>\n",
              "      <td>48.128862</td>\n",
              "      <td>1.951265e+04</td>\n",
              "      <td>271.664754</td>\n",
              "    </tr>\n",
              "    <tr>\n",
              "      <th>min</th>\n",
              "      <td>1.325318e+09</td>\n",
              "      <td>3.800000</td>\n",
              "      <td>3.800000</td>\n",
              "      <td>3.800000</td>\n",
              "      <td>3.800000</td>\n",
              "      <td>0.000000</td>\n",
              "      <td>0.000000e+00</td>\n",
              "      <td>3.800000</td>\n",
              "    </tr>\n",
              "    <tr>\n",
              "      <th>25%</th>\n",
              "      <td>1.341047e+09</td>\n",
              "      <td>93.490000</td>\n",
              "      <td>93.540000</td>\n",
              "      <td>93.420000</td>\n",
              "      <td>93.490000</td>\n",
              "      <td>0.989954</td>\n",
              "      <td>9.900000e+01</td>\n",
              "      <td>93.482705</td>\n",
              "    </tr>\n",
              "    <tr>\n",
              "      <th>50%</th>\n",
              "      <td>1.356775e+09</td>\n",
              "      <td>121.110000</td>\n",
              "      <td>121.180000</td>\n",
              "      <td>121.000000</td>\n",
              "      <td>121.090000</td>\n",
              "      <td>3.026490</td>\n",
              "      <td>3.280394e+02</td>\n",
              "      <td>121.102502</td>\n",
              "    </tr>\n",
              "    <tr>\n",
              "      <th>75%</th>\n",
              "      <td>1.372504e+09</td>\n",
              "      <td>194.300000</td>\n",
              "      <td>194.460000</td>\n",
              "      <td>194.150000</td>\n",
              "      <td>194.300000</td>\n",
              "      <td>12.000000</td>\n",
              "      <td>1.782326e+03</td>\n",
              "      <td>194.299996</td>\n",
              "    </tr>\n",
              "    <tr>\n",
              "      <th>max</th>\n",
              "      <td>1.388232e+09</td>\n",
              "      <td>1163.000000</td>\n",
              "      <td>1163.000000</td>\n",
              "      <td>1162.990000</td>\n",
              "      <td>1163.000000</td>\n",
              "      <td>2958.477574</td>\n",
              "      <td>1.543035e+06</td>\n",
              "      <td>1162.999574</td>\n",
              "    </tr>\n",
              "  </tbody>\n",
              "</table>\n",
              "</div>"
            ],
            "text/plain": [
              "          Timestamp           Open  ...  Volume (Currency)  Weighted Price\n",
              "count  1.048575e+06  342169.000000  ...       3.421690e+05   342169.000000\n",
              "mean   1.356775e+09     229.456116  ...       4.485655e+03      229.420213\n",
              "std    1.816186e+07     271.716593  ...       1.951265e+04      271.664754\n",
              "min    1.325318e+09       3.800000  ...       0.000000e+00        3.800000\n",
              "25%    1.341047e+09      93.490000  ...       9.900000e+01       93.482705\n",
              "50%    1.356775e+09     121.110000  ...       3.280394e+02      121.102502\n",
              "75%    1.372504e+09     194.300000  ...       1.782326e+03      194.299996\n",
              "max    1.388232e+09    1163.000000  ...       1.543035e+06     1162.999574\n",
              "\n",
              "[8 rows x 8 columns]"
            ]
          },
          "metadata": {
            "tags": []
          },
          "execution_count": 8
        }
      ]
    },
    {
      "cell_type": "code",
      "metadata": {
        "id": "2OT4L45nUe2L",
        "colab_type": "code",
        "outputId": "f6b44bf6-6890-425d-f2d9-d503ab18fcd4",
        "colab": {
          "base_uri": "https://localhost:8080/",
          "height": 417
        }
      },
      "source": [
        "### Eliminating NA values since they do not contribute information to our analysis #####\n",
        "df2.dropna()"
      ],
      "execution_count": 9,
      "outputs": [
        {
          "output_type": "execute_result",
          "data": {
            "text/html": [
              "<div>\n",
              "<style scoped>\n",
              "    .dataframe tbody tr th:only-of-type {\n",
              "        vertical-align: middle;\n",
              "    }\n",
              "\n",
              "    .dataframe tbody tr th {\n",
              "        vertical-align: top;\n",
              "    }\n",
              "\n",
              "    .dataframe thead th {\n",
              "        text-align: right;\n",
              "    }\n",
              "</style>\n",
              "<table border=\"1\" class=\"dataframe\">\n",
              "  <thead>\n",
              "    <tr style=\"text-align: right;\">\n",
              "      <th></th>\n",
              "      <th>Timestamp</th>\n",
              "      <th>Open</th>\n",
              "      <th>High</th>\n",
              "      <th>Low</th>\n",
              "      <th>Close</th>\n",
              "      <th>Volume (BTC)</th>\n",
              "      <th>Volume (Currency)</th>\n",
              "      <th>Weighted Price</th>\n",
              "    </tr>\n",
              "  </thead>\n",
              "  <tbody>\n",
              "    <tr>\n",
              "      <th>0</th>\n",
              "      <td>1325317920</td>\n",
              "      <td>4.39</td>\n",
              "      <td>4.39</td>\n",
              "      <td>4.39</td>\n",
              "      <td>4.39</td>\n",
              "      <td>0.455581</td>\n",
              "      <td>2.000000</td>\n",
              "      <td>4.390000</td>\n",
              "    </tr>\n",
              "    <tr>\n",
              "      <th>478</th>\n",
              "      <td>1325346600</td>\n",
              "      <td>4.39</td>\n",
              "      <td>4.39</td>\n",
              "      <td>4.39</td>\n",
              "      <td>4.39</td>\n",
              "      <td>48.000000</td>\n",
              "      <td>210.720000</td>\n",
              "      <td>4.390000</td>\n",
              "    </tr>\n",
              "    <tr>\n",
              "      <th>547</th>\n",
              "      <td>1325350740</td>\n",
              "      <td>4.50</td>\n",
              "      <td>4.57</td>\n",
              "      <td>4.50</td>\n",
              "      <td>4.57</td>\n",
              "      <td>37.862297</td>\n",
              "      <td>171.380337</td>\n",
              "      <td>4.526411</td>\n",
              "    </tr>\n",
              "    <tr>\n",
              "      <th>548</th>\n",
              "      <td>1325350800</td>\n",
              "      <td>4.58</td>\n",
              "      <td>4.58</td>\n",
              "      <td>4.58</td>\n",
              "      <td>4.58</td>\n",
              "      <td>9.000000</td>\n",
              "      <td>41.220000</td>\n",
              "      <td>4.580000</td>\n",
              "    </tr>\n",
              "    <tr>\n",
              "      <th>1224</th>\n",
              "      <td>1325391360</td>\n",
              "      <td>4.58</td>\n",
              "      <td>4.58</td>\n",
              "      <td>4.58</td>\n",
              "      <td>4.58</td>\n",
              "      <td>1.502000</td>\n",
              "      <td>6.879160</td>\n",
              "      <td>4.580000</td>\n",
              "    </tr>\n",
              "    <tr>\n",
              "      <th>...</th>\n",
              "      <td>...</td>\n",
              "      <td>...</td>\n",
              "      <td>...</td>\n",
              "      <td>...</td>\n",
              "      <td>...</td>\n",
              "      <td>...</td>\n",
              "      <td>...</td>\n",
              "      <td>...</td>\n",
              "    </tr>\n",
              "    <tr>\n",
              "      <th>1048570</th>\n",
              "      <td>1388232120</td>\n",
              "      <td>734.60</td>\n",
              "      <td>734.60</td>\n",
              "      <td>730.00</td>\n",
              "      <td>734.55</td>\n",
              "      <td>1.789687</td>\n",
              "      <td>1313.640757</td>\n",
              "      <td>734.005698</td>\n",
              "    </tr>\n",
              "    <tr>\n",
              "      <th>1048571</th>\n",
              "      <td>1388232180</td>\n",
              "      <td>734.55</td>\n",
              "      <td>734.55</td>\n",
              "      <td>730.71</td>\n",
              "      <td>730.71</td>\n",
              "      <td>0.110236</td>\n",
              "      <td>80.802051</td>\n",
              "      <td>732.991499</td>\n",
              "    </tr>\n",
              "    <tr>\n",
              "      <th>1048572</th>\n",
              "      <td>1388232240</td>\n",
              "      <td>734.40</td>\n",
              "      <td>734.40</td>\n",
              "      <td>730.51</td>\n",
              "      <td>730.51</td>\n",
              "      <td>0.554786</td>\n",
              "      <td>407.247985</td>\n",
              "      <td>734.063488</td>\n",
              "    </tr>\n",
              "    <tr>\n",
              "      <th>1048573</th>\n",
              "      <td>1388232300</td>\n",
              "      <td>730.51</td>\n",
              "      <td>733.63</td>\n",
              "      <td>730.51</td>\n",
              "      <td>731.10</td>\n",
              "      <td>0.620446</td>\n",
              "      <td>453.777190</td>\n",
              "      <td>731.372707</td>\n",
              "    </tr>\n",
              "    <tr>\n",
              "      <th>1048574</th>\n",
              "      <td>1388232360</td>\n",
              "      <td>733.00</td>\n",
              "      <td>734.00</td>\n",
              "      <td>733.00</td>\n",
              "      <td>734.00</td>\n",
              "      <td>9.214205</td>\n",
              "      <td>6757.415227</td>\n",
              "      <td>733.369303</td>\n",
              "    </tr>\n",
              "  </tbody>\n",
              "</table>\n",
              "<p>342169 rows × 8 columns</p>\n",
              "</div>"
            ],
            "text/plain": [
              "          Timestamp    Open  ...  Volume (Currency)  Weighted Price\n",
              "0        1325317920    4.39  ...           2.000000        4.390000\n",
              "478      1325346600    4.39  ...         210.720000        4.390000\n",
              "547      1325350740    4.50  ...         171.380337        4.526411\n",
              "548      1325350800    4.58  ...          41.220000        4.580000\n",
              "1224     1325391360    4.58  ...           6.879160        4.580000\n",
              "...             ...     ...  ...                ...             ...\n",
              "1048570  1388232120  734.60  ...        1313.640757      734.005698\n",
              "1048571  1388232180  734.55  ...          80.802051      732.991499\n",
              "1048572  1388232240  734.40  ...         407.247985      734.063488\n",
              "1048573  1388232300  730.51  ...         453.777190      731.372707\n",
              "1048574  1388232360  733.00  ...        6757.415227      733.369303\n",
              "\n",
              "[342169 rows x 8 columns]"
            ]
          },
          "metadata": {
            "tags": []
          },
          "execution_count": 9
        }
      ]
    },
    {
      "cell_type": "code",
      "metadata": {
        "id": "N4JGwiIPVFtF",
        "colab_type": "code",
        "outputId": "dfdf3f74-af96-4a05-c9b6-ff50e68bd728",
        "colab": {
          "base_uri": "https://localhost:8080/",
          "height": 203
        }
      },
      "source": [
        "###### Data Pre Processing ########\n",
        "###### Having month and year granularities ##########\n",
        "df2['date'] = pd.to_datetime(df2['Timestamp'],unit='s').dt.date\n",
        "df2['year'] = pd.to_datetime(df2['Timestamp'],unit='s').dt.year\n",
        "df2 = df2.dropna()\n",
        "df2.head()"
      ],
      "execution_count": 10,
      "outputs": [
        {
          "output_type": "execute_result",
          "data": {
            "text/html": [
              "<div>\n",
              "<style scoped>\n",
              "    .dataframe tbody tr th:only-of-type {\n",
              "        vertical-align: middle;\n",
              "    }\n",
              "\n",
              "    .dataframe tbody tr th {\n",
              "        vertical-align: top;\n",
              "    }\n",
              "\n",
              "    .dataframe thead th {\n",
              "        text-align: right;\n",
              "    }\n",
              "</style>\n",
              "<table border=\"1\" class=\"dataframe\">\n",
              "  <thead>\n",
              "    <tr style=\"text-align: right;\">\n",
              "      <th></th>\n",
              "      <th>Timestamp</th>\n",
              "      <th>Open</th>\n",
              "      <th>High</th>\n",
              "      <th>Low</th>\n",
              "      <th>Close</th>\n",
              "      <th>Volume (BTC)</th>\n",
              "      <th>Volume (Currency)</th>\n",
              "      <th>Weighted Price</th>\n",
              "      <th>date</th>\n",
              "      <th>year</th>\n",
              "    </tr>\n",
              "  </thead>\n",
              "  <tbody>\n",
              "    <tr>\n",
              "      <th>0</th>\n",
              "      <td>1325317920</td>\n",
              "      <td>4.39</td>\n",
              "      <td>4.39</td>\n",
              "      <td>4.39</td>\n",
              "      <td>4.39</td>\n",
              "      <td>0.455581</td>\n",
              "      <td>2.000000</td>\n",
              "      <td>4.390000</td>\n",
              "      <td>2011-12-31</td>\n",
              "      <td>2011</td>\n",
              "    </tr>\n",
              "    <tr>\n",
              "      <th>478</th>\n",
              "      <td>1325346600</td>\n",
              "      <td>4.39</td>\n",
              "      <td>4.39</td>\n",
              "      <td>4.39</td>\n",
              "      <td>4.39</td>\n",
              "      <td>48.000000</td>\n",
              "      <td>210.720000</td>\n",
              "      <td>4.390000</td>\n",
              "      <td>2011-12-31</td>\n",
              "      <td>2011</td>\n",
              "    </tr>\n",
              "    <tr>\n",
              "      <th>547</th>\n",
              "      <td>1325350740</td>\n",
              "      <td>4.50</td>\n",
              "      <td>4.57</td>\n",
              "      <td>4.50</td>\n",
              "      <td>4.57</td>\n",
              "      <td>37.862297</td>\n",
              "      <td>171.380337</td>\n",
              "      <td>4.526411</td>\n",
              "      <td>2011-12-31</td>\n",
              "      <td>2011</td>\n",
              "    </tr>\n",
              "    <tr>\n",
              "      <th>548</th>\n",
              "      <td>1325350800</td>\n",
              "      <td>4.58</td>\n",
              "      <td>4.58</td>\n",
              "      <td>4.58</td>\n",
              "      <td>4.58</td>\n",
              "      <td>9.000000</td>\n",
              "      <td>41.220000</td>\n",
              "      <td>4.580000</td>\n",
              "      <td>2011-12-31</td>\n",
              "      <td>2011</td>\n",
              "    </tr>\n",
              "    <tr>\n",
              "      <th>1224</th>\n",
              "      <td>1325391360</td>\n",
              "      <td>4.58</td>\n",
              "      <td>4.58</td>\n",
              "      <td>4.58</td>\n",
              "      <td>4.58</td>\n",
              "      <td>1.502000</td>\n",
              "      <td>6.879160</td>\n",
              "      <td>4.580000</td>\n",
              "      <td>2012-01-01</td>\n",
              "      <td>2012</td>\n",
              "    </tr>\n",
              "  </tbody>\n",
              "</table>\n",
              "</div>"
            ],
            "text/plain": [
              "       Timestamp  Open  High  ...  Weighted Price        date  year\n",
              "0     1325317920  4.39  4.39  ...        4.390000  2011-12-31  2011\n",
              "478   1325346600  4.39  4.39  ...        4.390000  2011-12-31  2011\n",
              "547   1325350740  4.50  4.57  ...        4.526411  2011-12-31  2011\n",
              "548   1325350800  4.58  4.58  ...        4.580000  2011-12-31  2011\n",
              "1224  1325391360  4.58  4.58  ...        4.580000  2012-01-01  2012\n",
              "\n",
              "[5 rows x 10 columns]"
            ]
          },
          "metadata": {
            "tags": []
          },
          "execution_count": 10
        }
      ]
    },
    {
      "cell_type": "code",
      "metadata": {
        "id": "3TjuzGh4cd-n",
        "colab_type": "code",
        "outputId": "c35889de-82b0-4f9b-b316-1fc3a5c02998",
        "colab": {
          "base_uri": "https://localhost:8080/",
          "height": 203
        }
      },
      "source": [
        "###### Checking for any more NAs that might have been introduced and eliminating them ######\n",
        "df2.loc[df2.index.dropna()]\n",
        "\n",
        "###### Adding parameter Competition from \n",
        "bitcoin = df2\n",
        "bitcoin['Competition'] = 0\n",
        "bitcoin.loc[bitcoin['year'] == 2011, ['Competition']] = 4\n",
        "bitcoin.loc[bitcoin['year'] == 2012, ['Competition']] = 6\n",
        "bitcoin.loc[bitcoin['year'] == 2013, ['Competition']] = 66\n",
        "bitcoin.loc[bitcoin['year'] == 2014, ['Competition']] = 506\n",
        "bitcoin.loc[bitcoin['year'] == 2015, ['Competition']] = 562\n",
        "bitcoin.loc[bitcoin['year'] == 2016, ['Competition']] = 644\n",
        "bitcoin.loc[bitcoin['year'] == 2017, ['Competition']] = 1335\n",
        "bitcoin.head()"
      ],
      "execution_count": 11,
      "outputs": [
        {
          "output_type": "execute_result",
          "data": {
            "text/html": [
              "<div>\n",
              "<style scoped>\n",
              "    .dataframe tbody tr th:only-of-type {\n",
              "        vertical-align: middle;\n",
              "    }\n",
              "\n",
              "    .dataframe tbody tr th {\n",
              "        vertical-align: top;\n",
              "    }\n",
              "\n",
              "    .dataframe thead th {\n",
              "        text-align: right;\n",
              "    }\n",
              "</style>\n",
              "<table border=\"1\" class=\"dataframe\">\n",
              "  <thead>\n",
              "    <tr style=\"text-align: right;\">\n",
              "      <th></th>\n",
              "      <th>Timestamp</th>\n",
              "      <th>Open</th>\n",
              "      <th>High</th>\n",
              "      <th>Low</th>\n",
              "      <th>Close</th>\n",
              "      <th>Volume (BTC)</th>\n",
              "      <th>Volume (Currency)</th>\n",
              "      <th>Weighted Price</th>\n",
              "      <th>date</th>\n",
              "      <th>year</th>\n",
              "      <th>Competition</th>\n",
              "    </tr>\n",
              "  </thead>\n",
              "  <tbody>\n",
              "    <tr>\n",
              "      <th>0</th>\n",
              "      <td>1325317920</td>\n",
              "      <td>4.39</td>\n",
              "      <td>4.39</td>\n",
              "      <td>4.39</td>\n",
              "      <td>4.39</td>\n",
              "      <td>0.455581</td>\n",
              "      <td>2.000000</td>\n",
              "      <td>4.390000</td>\n",
              "      <td>2011-12-31</td>\n",
              "      <td>2011</td>\n",
              "      <td>4</td>\n",
              "    </tr>\n",
              "    <tr>\n",
              "      <th>478</th>\n",
              "      <td>1325346600</td>\n",
              "      <td>4.39</td>\n",
              "      <td>4.39</td>\n",
              "      <td>4.39</td>\n",
              "      <td>4.39</td>\n",
              "      <td>48.000000</td>\n",
              "      <td>210.720000</td>\n",
              "      <td>4.390000</td>\n",
              "      <td>2011-12-31</td>\n",
              "      <td>2011</td>\n",
              "      <td>4</td>\n",
              "    </tr>\n",
              "    <tr>\n",
              "      <th>547</th>\n",
              "      <td>1325350740</td>\n",
              "      <td>4.50</td>\n",
              "      <td>4.57</td>\n",
              "      <td>4.50</td>\n",
              "      <td>4.57</td>\n",
              "      <td>37.862297</td>\n",
              "      <td>171.380337</td>\n",
              "      <td>4.526411</td>\n",
              "      <td>2011-12-31</td>\n",
              "      <td>2011</td>\n",
              "      <td>4</td>\n",
              "    </tr>\n",
              "    <tr>\n",
              "      <th>548</th>\n",
              "      <td>1325350800</td>\n",
              "      <td>4.58</td>\n",
              "      <td>4.58</td>\n",
              "      <td>4.58</td>\n",
              "      <td>4.58</td>\n",
              "      <td>9.000000</td>\n",
              "      <td>41.220000</td>\n",
              "      <td>4.580000</td>\n",
              "      <td>2011-12-31</td>\n",
              "      <td>2011</td>\n",
              "      <td>4</td>\n",
              "    </tr>\n",
              "    <tr>\n",
              "      <th>1224</th>\n",
              "      <td>1325391360</td>\n",
              "      <td>4.58</td>\n",
              "      <td>4.58</td>\n",
              "      <td>4.58</td>\n",
              "      <td>4.58</td>\n",
              "      <td>1.502000</td>\n",
              "      <td>6.879160</td>\n",
              "      <td>4.580000</td>\n",
              "      <td>2012-01-01</td>\n",
              "      <td>2012</td>\n",
              "      <td>6</td>\n",
              "    </tr>\n",
              "  </tbody>\n",
              "</table>\n",
              "</div>"
            ],
            "text/plain": [
              "       Timestamp  Open  High  ...        date  year  Competition\n",
              "0     1325317920  4.39  4.39  ...  2011-12-31  2011            4\n",
              "478   1325346600  4.39  4.39  ...  2011-12-31  2011            4\n",
              "547   1325350740  4.50  4.57  ...  2011-12-31  2011            4\n",
              "548   1325350800  4.58  4.58  ...  2011-12-31  2011            4\n",
              "1224  1325391360  4.58  4.58  ...  2012-01-01  2012            6\n",
              "\n",
              "[5 rows x 11 columns]"
            ]
          },
          "metadata": {
            "tags": []
          },
          "execution_count": 11
        }
      ]
    },
    {
      "cell_type": "code",
      "metadata": {
        "id": "1F9qRoH_d8mt",
        "colab_type": "code",
        "outputId": "7d4f7821-e102-42a7-da79-809565e107cc",
        "colab": {
          "base_uri": "https://localhost:8080/",
          "height": 203
        }
      },
      "source": [
        "## Adding parameter for Model_Price (Cost of bitcoin mining) as a part of data aggregation #####\n",
        "## https://www.cesifo.org/DocDL/CESifo-Forum-2018-1-thum-bitcoin-march.pdf (cost of bitcoin)\n",
        "## https://www.economicpolicyresearch.org/econ/2015/NSSR_WP_052015.pdf (cost of bitcoin)\n",
        "bitcoin['Model_Price'] = 0\n",
        "bitcoin['year_month'] = pd.to_datetime(bitcoin['Timestamp'],unit='s').dt.to_period('M')\n",
        "bitcoin.loc[bitcoin['year'] == 2011, ['Model_Price']] = 32\n",
        "bitcoin.loc[bitcoin['year'] == 2012, ['Model_Price']] = 65\n",
        "bitcoin.loc[bitcoin['year_month'] == \"2013-01\", ['Model_Price']] = 68\n",
        "bitcoin.loc[bitcoin['year_month'] == \"2013-02\", ['Model_Price']] = 68\n",
        "bitcoin.loc[bitcoin['year_month'] == \"2013-03\", ['Model_Price']] = 68\n",
        "bitcoin.loc[bitcoin['year_month'] == \"2013-04\", ['Model_Price']] = 68\n",
        "bitcoin.loc[bitcoin['year_month'] == \"2013-05\", ['Model_Price']] = 68\n",
        "bitcoin.loc[bitcoin['year_month'] == \"2013-06\", ['Model_Price']] = 68.73\n",
        "bitcoin.loc[bitcoin['year_month'] == \"2013-07\", ['Model_Price']] = 79.83\n",
        "bitcoin.loc[bitcoin['year_month'] == \"2013-08\", ['Model_Price']] = 96.36\n",
        "bitcoin.loc[bitcoin['year_month'] == \"2013-09\", ['Model_Price']] = 126.01\n",
        "bitcoin.loc[bitcoin['year_month'] == \"2013-10\", ['Model_Price']] = 199.575\n",
        "bitcoin.loc[bitcoin['year_month'] == \"2013-11\", ['Model_Price']] = 296.25\n",
        "bitcoin.loc[bitcoin['year_month'] == \"2013-12\", ['Model_Price']] = 684.72\n",
        "bitcoin.loc[bitcoin['year_month'] == \"2014-01\", ['Model_Price']] = 848.03\n",
        "bitcoin.loc[bitcoin['year_month'] == \"2014-02\", ['Model_Price']] = 626.196\n",
        "bitcoin.loc[bitcoin['year_month'] == \"2014-03\", ['Model_Price']] = 584.2\n",
        "bitcoin.loc[bitcoin['year_month'] == \"2014-04\", ['Model_Price']] = 435.926\n",
        "bitcoin.loc[bitcoin['year_month'] == \"2014-05\", ['Model_Price']] = 559.79\n",
        "bitcoin.loc[bitcoin['year_month'] == \"2014-06\", ['Model_Price']] = 621.0533\n",
        "bitcoin.loc[bitcoin['year_month'] == \"2014-07\", ['Model_Price']] = 599.135\n",
        "bitcoin.loc[bitcoin['year_month'] == \"2014-08\", ['Model_Price']] = 515.163\n",
        "bitcoin.loc[bitcoin['year_month'] == \"2014-09\", ['Model_Price']] = 411.59\n",
        "bitcoin.loc[bitcoin['year_month'] == \"2014-10\", ['Model_Price']] = 371.19\n",
        "bitcoin.loc[bitcoin['year_month'] == \"2014-11\", ['Model_Price']] = 386.085\n",
        "bitcoin.loc[bitcoin['year_month'] == \"2014-12\", ['Model_Price']] = 330.796\n",
        "bitcoin.loc[bitcoin['year_month'] == \"2015-01\", ['Model_Price']] = 254.65\n",
        "bitcoin.loc[bitcoin['year_month'] == \"2015-02\", ['Model_Price']] = 249.525\n",
        "bitcoin.loc[bitcoin['year_month'] == \"2015-03\", ['Model_Price']] = 257.775\n",
        "bitcoin.loc[bitcoin['year_month'] == \"2015-04\", ['Model_Price']] = 250.11\n",
        "bitcoin.loc[bitcoin['year_month'] == \"2015-05\", ['Model_Price']] = 248.41\n",
        "bitcoin.loc[bitcoin['year_month'] == \"2015-06\", ['Model_Price']] = 255.365\n",
        "bitcoin.loc[bitcoin['year_month'] == \"2015-07\", ['Model_Price']] = 266.345\n",
        "bitcoin.loc[bitcoin['year_month'] == \"2015-08\", ['Model_Price']] = 240.92\n",
        "bitcoin.loc[bitcoin['year_month'] == \"2015-09\", ['Model_Price']] = 243.495\n",
        "bitcoin.loc[bitcoin['year_month'] == \"2015-10\", ['Model_Price']] = 256.77\n",
        "bitcoin.loc[bitcoin['year_month'] == \"2015-11\", ['Model_Price']] = 290.14\n",
        "bitcoin.loc[bitcoin['year_month'] == \"2015-12\", ['Model_Price']] = 385.8633\n",
        "bitcoin.loc[bitcoin['year_month'] == \"2016-01\", ['Model_Price']] = 412.41\n",
        "bitcoin.loc[bitcoin['year_month'] == \"2016-02\", ['Model_Price']] = 396.65\n",
        "bitcoin.loc[bitcoin['year_month'] == \"2016-03\", ['Model_Price']] = 417.27\n",
        "bitcoin.loc[bitcoin['year_month'] == \"2016-04\", ['Model_Price']] = 440.273\n",
        "bitcoin.loc[bitcoin['year_month'] == \"2016-05\", ['Model_Price']] = 443.72\n",
        "bitcoin.loc[bitcoin['year_month'] == \"2016-06\", ['Model_Price']] = 674.7\n",
        "bitcoin.loc[bitcoin['year_month'] == \"2016-07\", ['Model_Price']] = 687.56\n",
        "bitcoin.loc[bitcoin['year_month'] == \"2016-08\", ['Model_Price']] = 687.22\n",
        "bitcoin.loc[bitcoin['year_month'] == \"2016-09\", ['Model_Price']] = 752.255\n",
        "bitcoin.loc[bitcoin['year_month'] == \"2016-10\", ['Model_Price']] = 824.86\n",
        "bitcoin.loc[bitcoin['year_month'] == \"2016-11\", ['Model_Price']] = 863.965\n",
        "bitcoin.loc[bitcoin['year_month'] == \"2016-12\", ['Model_Price']] = 982.056\n",
        "bitcoin.loc[bitcoin['year_month'] == \"2017-01\", ['Model_Price']] = 1175.525\n",
        "bitcoin.loc[bitcoin['year_month'] == \"2017-02\", ['Model_Price']] = 1389.88\n",
        "bitcoin.loc[bitcoin['year_month'] == \"2017-03\", ['Model_Price']] = 1542.01\n",
        "bitcoin.loc[bitcoin['year_month'] == \"2017-04\", ['Model_Price']] = 1679.52\n",
        "bitcoin.loc[bitcoin['year_month'] == \"2017-05\", ['Model_Price']] = 1681.695\n",
        "bitcoin.loc[bitcoin['year_month'] == \"2017-06\", ['Model_Price']] = 2239.49\n",
        "bitcoin.loc[bitcoin['year_month'] == \"2017-07\", ['Model_Price']] = 2548.427\n",
        "bitcoin.loc[bitcoin['year_month'] == \"2017-08\", ['Model_Price']] = 2917.47\n",
        "bitcoin.loc[bitcoin['year_month'] == \"2017-09\", ['Model_Price']] = 3263.3\n",
        "bitcoin.loc[bitcoin['year_month'] == \"2017-10\", ['Model_Price']] = 4051.67\n",
        "bitcoin.loc[bitcoin['year_month'] == \"2017-11\", ['Model_Price']] = 4367.055\n",
        "bitcoin.loc[bitcoin['year_month'] == \"2017-12\", ['Model_Price']] = 5579.17\n",
        "bitcoin.head()"
      ],
      "execution_count": 12,
      "outputs": [
        {
          "output_type": "execute_result",
          "data": {
            "text/html": [
              "<div>\n",
              "<style scoped>\n",
              "    .dataframe tbody tr th:only-of-type {\n",
              "        vertical-align: middle;\n",
              "    }\n",
              "\n",
              "    .dataframe tbody tr th {\n",
              "        vertical-align: top;\n",
              "    }\n",
              "\n",
              "    .dataframe thead th {\n",
              "        text-align: right;\n",
              "    }\n",
              "</style>\n",
              "<table border=\"1\" class=\"dataframe\">\n",
              "  <thead>\n",
              "    <tr style=\"text-align: right;\">\n",
              "      <th></th>\n",
              "      <th>Timestamp</th>\n",
              "      <th>Open</th>\n",
              "      <th>High</th>\n",
              "      <th>Low</th>\n",
              "      <th>Close</th>\n",
              "      <th>Volume (BTC)</th>\n",
              "      <th>Volume (Currency)</th>\n",
              "      <th>Weighted Price</th>\n",
              "      <th>date</th>\n",
              "      <th>year</th>\n",
              "      <th>Competition</th>\n",
              "      <th>Model_Price</th>\n",
              "      <th>year_month</th>\n",
              "    </tr>\n",
              "  </thead>\n",
              "  <tbody>\n",
              "    <tr>\n",
              "      <th>0</th>\n",
              "      <td>1325317920</td>\n",
              "      <td>4.39</td>\n",
              "      <td>4.39</td>\n",
              "      <td>4.39</td>\n",
              "      <td>4.39</td>\n",
              "      <td>0.455581</td>\n",
              "      <td>2.000000</td>\n",
              "      <td>4.390000</td>\n",
              "      <td>2011-12-31</td>\n",
              "      <td>2011</td>\n",
              "      <td>4</td>\n",
              "      <td>32.0</td>\n",
              "      <td>2011-12</td>\n",
              "    </tr>\n",
              "    <tr>\n",
              "      <th>478</th>\n",
              "      <td>1325346600</td>\n",
              "      <td>4.39</td>\n",
              "      <td>4.39</td>\n",
              "      <td>4.39</td>\n",
              "      <td>4.39</td>\n",
              "      <td>48.000000</td>\n",
              "      <td>210.720000</td>\n",
              "      <td>4.390000</td>\n",
              "      <td>2011-12-31</td>\n",
              "      <td>2011</td>\n",
              "      <td>4</td>\n",
              "      <td>32.0</td>\n",
              "      <td>2011-12</td>\n",
              "    </tr>\n",
              "    <tr>\n",
              "      <th>547</th>\n",
              "      <td>1325350740</td>\n",
              "      <td>4.50</td>\n",
              "      <td>4.57</td>\n",
              "      <td>4.50</td>\n",
              "      <td>4.57</td>\n",
              "      <td>37.862297</td>\n",
              "      <td>171.380337</td>\n",
              "      <td>4.526411</td>\n",
              "      <td>2011-12-31</td>\n",
              "      <td>2011</td>\n",
              "      <td>4</td>\n",
              "      <td>32.0</td>\n",
              "      <td>2011-12</td>\n",
              "    </tr>\n",
              "    <tr>\n",
              "      <th>548</th>\n",
              "      <td>1325350800</td>\n",
              "      <td>4.58</td>\n",
              "      <td>4.58</td>\n",
              "      <td>4.58</td>\n",
              "      <td>4.58</td>\n",
              "      <td>9.000000</td>\n",
              "      <td>41.220000</td>\n",
              "      <td>4.580000</td>\n",
              "      <td>2011-12-31</td>\n",
              "      <td>2011</td>\n",
              "      <td>4</td>\n",
              "      <td>32.0</td>\n",
              "      <td>2011-12</td>\n",
              "    </tr>\n",
              "    <tr>\n",
              "      <th>1224</th>\n",
              "      <td>1325391360</td>\n",
              "      <td>4.58</td>\n",
              "      <td>4.58</td>\n",
              "      <td>4.58</td>\n",
              "      <td>4.58</td>\n",
              "      <td>1.502000</td>\n",
              "      <td>6.879160</td>\n",
              "      <td>4.580000</td>\n",
              "      <td>2012-01-01</td>\n",
              "      <td>2012</td>\n",
              "      <td>6</td>\n",
              "      <td>65.0</td>\n",
              "      <td>2012-01</td>\n",
              "    </tr>\n",
              "  </tbody>\n",
              "</table>\n",
              "</div>"
            ],
            "text/plain": [
              "       Timestamp  Open  High   Low  ...  year  Competition  Model_Price  year_month\n",
              "0     1325317920  4.39  4.39  4.39  ...  2011            4         32.0     2011-12\n",
              "478   1325346600  4.39  4.39  4.39  ...  2011            4         32.0     2011-12\n",
              "547   1325350740  4.50  4.57  4.50  ...  2011            4         32.0     2011-12\n",
              "548   1325350800  4.58  4.58  4.58  ...  2011            4         32.0     2011-12\n",
              "1224  1325391360  4.58  4.58  4.58  ...  2012            6         65.0     2012-01\n",
              "\n",
              "[5 rows x 13 columns]"
            ]
          },
          "metadata": {
            "tags": []
          },
          "execution_count": 12
        }
      ]
    },
    {
      "cell_type": "code",
      "metadata": {
        "id": "fSvfJYXGF_Oh",
        "colab_type": "code",
        "outputId": "d6979d3e-9c41-4dd0-aaa2-07fc559f78cb",
        "colab": {
          "base_uri": "https://localhost:8080/",
          "height": 306
        }
      },
      "source": [
        "##Calculating the ratio of the market price and the weighted price\n",
        "bitcoin['Price Ratio'] =  (bitcoin['Weighted Price'] / bitcoin['Model_Price'] ) \n",
        "bitcoin.head()"
      ],
      "execution_count": 13,
      "outputs": [
        {
          "output_type": "execute_result",
          "data": {
            "text/html": [
              "<div>\n",
              "<style scoped>\n",
              "    .dataframe tbody tr th:only-of-type {\n",
              "        vertical-align: middle;\n",
              "    }\n",
              "\n",
              "    .dataframe tbody tr th {\n",
              "        vertical-align: top;\n",
              "    }\n",
              "\n",
              "    .dataframe thead th {\n",
              "        text-align: right;\n",
              "    }\n",
              "</style>\n",
              "<table border=\"1\" class=\"dataframe\">\n",
              "  <thead>\n",
              "    <tr style=\"text-align: right;\">\n",
              "      <th></th>\n",
              "      <th>Timestamp</th>\n",
              "      <th>Open</th>\n",
              "      <th>High</th>\n",
              "      <th>Low</th>\n",
              "      <th>Close</th>\n",
              "      <th>Volume (BTC)</th>\n",
              "      <th>Volume (Currency)</th>\n",
              "      <th>Weighted Price</th>\n",
              "      <th>date</th>\n",
              "      <th>year</th>\n",
              "      <th>Competition</th>\n",
              "      <th>Model_Price</th>\n",
              "      <th>year_month</th>\n",
              "      <th>Price Ratio</th>\n",
              "    </tr>\n",
              "  </thead>\n",
              "  <tbody>\n",
              "    <tr>\n",
              "      <th>0</th>\n",
              "      <td>1325317920</td>\n",
              "      <td>4.39</td>\n",
              "      <td>4.39</td>\n",
              "      <td>4.39</td>\n",
              "      <td>4.39</td>\n",
              "      <td>0.455581</td>\n",
              "      <td>2.000000</td>\n",
              "      <td>4.390000</td>\n",
              "      <td>2011-12-31</td>\n",
              "      <td>2011</td>\n",
              "      <td>4</td>\n",
              "      <td>32.0</td>\n",
              "      <td>2011-12</td>\n",
              "      <td>0.137187</td>\n",
              "    </tr>\n",
              "    <tr>\n",
              "      <th>478</th>\n",
              "      <td>1325346600</td>\n",
              "      <td>4.39</td>\n",
              "      <td>4.39</td>\n",
              "      <td>4.39</td>\n",
              "      <td>4.39</td>\n",
              "      <td>48.000000</td>\n",
              "      <td>210.720000</td>\n",
              "      <td>4.390000</td>\n",
              "      <td>2011-12-31</td>\n",
              "      <td>2011</td>\n",
              "      <td>4</td>\n",
              "      <td>32.0</td>\n",
              "      <td>2011-12</td>\n",
              "      <td>0.137187</td>\n",
              "    </tr>\n",
              "    <tr>\n",
              "      <th>547</th>\n",
              "      <td>1325350740</td>\n",
              "      <td>4.50</td>\n",
              "      <td>4.57</td>\n",
              "      <td>4.50</td>\n",
              "      <td>4.57</td>\n",
              "      <td>37.862297</td>\n",
              "      <td>171.380337</td>\n",
              "      <td>4.526411</td>\n",
              "      <td>2011-12-31</td>\n",
              "      <td>2011</td>\n",
              "      <td>4</td>\n",
              "      <td>32.0</td>\n",
              "      <td>2011-12</td>\n",
              "      <td>0.141450</td>\n",
              "    </tr>\n",
              "    <tr>\n",
              "      <th>548</th>\n",
              "      <td>1325350800</td>\n",
              "      <td>4.58</td>\n",
              "      <td>4.58</td>\n",
              "      <td>4.58</td>\n",
              "      <td>4.58</td>\n",
              "      <td>9.000000</td>\n",
              "      <td>41.220000</td>\n",
              "      <td>4.580000</td>\n",
              "      <td>2011-12-31</td>\n",
              "      <td>2011</td>\n",
              "      <td>4</td>\n",
              "      <td>32.0</td>\n",
              "      <td>2011-12</td>\n",
              "      <td>0.143125</td>\n",
              "    </tr>\n",
              "    <tr>\n",
              "      <th>1224</th>\n",
              "      <td>1325391360</td>\n",
              "      <td>4.58</td>\n",
              "      <td>4.58</td>\n",
              "      <td>4.58</td>\n",
              "      <td>4.58</td>\n",
              "      <td>1.502000</td>\n",
              "      <td>6.879160</td>\n",
              "      <td>4.580000</td>\n",
              "      <td>2012-01-01</td>\n",
              "      <td>2012</td>\n",
              "      <td>6</td>\n",
              "      <td>65.0</td>\n",
              "      <td>2012-01</td>\n",
              "      <td>0.070462</td>\n",
              "    </tr>\n",
              "  </tbody>\n",
              "</table>\n",
              "</div>"
            ],
            "text/plain": [
              "       Timestamp  Open  High  ...  Model_Price  year_month  Price Ratio\n",
              "0     1325317920  4.39  4.39  ...         32.0     2011-12     0.137187\n",
              "478   1325346600  4.39  4.39  ...         32.0     2011-12     0.137187\n",
              "547   1325350740  4.50  4.57  ...         32.0     2011-12     0.141450\n",
              "548   1325350800  4.58  4.58  ...         32.0     2011-12     0.143125\n",
              "1224  1325391360  4.58  4.58  ...         65.0     2012-01     0.070462\n",
              "\n",
              "[5 rows x 14 columns]"
            ]
          },
          "metadata": {
            "tags": []
          },
          "execution_count": 13
        }
      ]
    },
    {
      "cell_type": "code",
      "metadata": {
        "id": "uqWibC_-H49O",
        "colab_type": "code",
        "outputId": "5baa834e-ea31-46bc-9ad4-2110093d6817",
        "colab": {
          "base_uri": "https://localhost:8080/",
          "height": 326
        }
      },
      "source": [
        "##Add a column that puts in the status for the hazard\n",
        "bitcoin['Status'] = 0\n",
        "bitcoin.loc[bitcoin['Price Ratio'] >= 1, ['Status']] = 1\n",
        "bitcoin.loc[bitcoin['Price Ratio'] < 1,['Status']] = 0\n",
        "\n",
        "##Calculating the volatility\n",
        "bitcoin['Volatility'] = 0\n",
        "bitcoin['Volatility'] = bitcoin['High'] - bitcoin['Low']\n",
        "\n",
        "bitcoin.head()"
      ],
      "execution_count": 14,
      "outputs": [
        {
          "output_type": "execute_result",
          "data": {
            "text/html": [
              "<div>\n",
              "<style scoped>\n",
              "    .dataframe tbody tr th:only-of-type {\n",
              "        vertical-align: middle;\n",
              "    }\n",
              "\n",
              "    .dataframe tbody tr th {\n",
              "        vertical-align: top;\n",
              "    }\n",
              "\n",
              "    .dataframe thead th {\n",
              "        text-align: right;\n",
              "    }\n",
              "</style>\n",
              "<table border=\"1\" class=\"dataframe\">\n",
              "  <thead>\n",
              "    <tr style=\"text-align: right;\">\n",
              "      <th></th>\n",
              "      <th>Timestamp</th>\n",
              "      <th>Open</th>\n",
              "      <th>High</th>\n",
              "      <th>Low</th>\n",
              "      <th>Close</th>\n",
              "      <th>Volume (BTC)</th>\n",
              "      <th>Volume (Currency)</th>\n",
              "      <th>Weighted Price</th>\n",
              "      <th>date</th>\n",
              "      <th>year</th>\n",
              "      <th>Competition</th>\n",
              "      <th>Model_Price</th>\n",
              "      <th>year_month</th>\n",
              "      <th>Price Ratio</th>\n",
              "      <th>Status</th>\n",
              "      <th>Volatility</th>\n",
              "    </tr>\n",
              "  </thead>\n",
              "  <tbody>\n",
              "    <tr>\n",
              "      <th>0</th>\n",
              "      <td>1325317920</td>\n",
              "      <td>4.39</td>\n",
              "      <td>4.39</td>\n",
              "      <td>4.39</td>\n",
              "      <td>4.39</td>\n",
              "      <td>0.455581</td>\n",
              "      <td>2.000000</td>\n",
              "      <td>4.390000</td>\n",
              "      <td>2011-12-31</td>\n",
              "      <td>2011</td>\n",
              "      <td>4</td>\n",
              "      <td>32.0</td>\n",
              "      <td>2011-12</td>\n",
              "      <td>0.137187</td>\n",
              "      <td>0</td>\n",
              "      <td>0.00</td>\n",
              "    </tr>\n",
              "    <tr>\n",
              "      <th>478</th>\n",
              "      <td>1325346600</td>\n",
              "      <td>4.39</td>\n",
              "      <td>4.39</td>\n",
              "      <td>4.39</td>\n",
              "      <td>4.39</td>\n",
              "      <td>48.000000</td>\n",
              "      <td>210.720000</td>\n",
              "      <td>4.390000</td>\n",
              "      <td>2011-12-31</td>\n",
              "      <td>2011</td>\n",
              "      <td>4</td>\n",
              "      <td>32.0</td>\n",
              "      <td>2011-12</td>\n",
              "      <td>0.137187</td>\n",
              "      <td>0</td>\n",
              "      <td>0.00</td>\n",
              "    </tr>\n",
              "    <tr>\n",
              "      <th>547</th>\n",
              "      <td>1325350740</td>\n",
              "      <td>4.50</td>\n",
              "      <td>4.57</td>\n",
              "      <td>4.50</td>\n",
              "      <td>4.57</td>\n",
              "      <td>37.862297</td>\n",
              "      <td>171.380337</td>\n",
              "      <td>4.526411</td>\n",
              "      <td>2011-12-31</td>\n",
              "      <td>2011</td>\n",
              "      <td>4</td>\n",
              "      <td>32.0</td>\n",
              "      <td>2011-12</td>\n",
              "      <td>0.141450</td>\n",
              "      <td>0</td>\n",
              "      <td>0.07</td>\n",
              "    </tr>\n",
              "    <tr>\n",
              "      <th>548</th>\n",
              "      <td>1325350800</td>\n",
              "      <td>4.58</td>\n",
              "      <td>4.58</td>\n",
              "      <td>4.58</td>\n",
              "      <td>4.58</td>\n",
              "      <td>9.000000</td>\n",
              "      <td>41.220000</td>\n",
              "      <td>4.580000</td>\n",
              "      <td>2011-12-31</td>\n",
              "      <td>2011</td>\n",
              "      <td>4</td>\n",
              "      <td>32.0</td>\n",
              "      <td>2011-12</td>\n",
              "      <td>0.143125</td>\n",
              "      <td>0</td>\n",
              "      <td>0.00</td>\n",
              "    </tr>\n",
              "    <tr>\n",
              "      <th>1224</th>\n",
              "      <td>1325391360</td>\n",
              "      <td>4.58</td>\n",
              "      <td>4.58</td>\n",
              "      <td>4.58</td>\n",
              "      <td>4.58</td>\n",
              "      <td>1.502000</td>\n",
              "      <td>6.879160</td>\n",
              "      <td>4.580000</td>\n",
              "      <td>2012-01-01</td>\n",
              "      <td>2012</td>\n",
              "      <td>6</td>\n",
              "      <td>65.0</td>\n",
              "      <td>2012-01</td>\n",
              "      <td>0.070462</td>\n",
              "      <td>0</td>\n",
              "      <td>0.00</td>\n",
              "    </tr>\n",
              "  </tbody>\n",
              "</table>\n",
              "</div>"
            ],
            "text/plain": [
              "       Timestamp  Open  High   Low  ...  year_month  Price Ratio  Status  Volatility\n",
              "0     1325317920  4.39  4.39  4.39  ...     2011-12     0.137187       0        0.00\n",
              "478   1325346600  4.39  4.39  4.39  ...     2011-12     0.137187       0        0.00\n",
              "547   1325350740  4.50  4.57  4.50  ...     2011-12     0.141450       0        0.07\n",
              "548   1325350800  4.58  4.58  4.58  ...     2011-12     0.143125       0        0.00\n",
              "1224  1325391360  4.58  4.58  4.58  ...     2012-01     0.070462       0        0.00\n",
              "\n",
              "[5 rows x 16 columns]"
            ]
          },
          "metadata": {
            "tags": []
          },
          "execution_count": 14
        }
      ]
    },
    {
      "cell_type": "code",
      "metadata": {
        "id": "XY8grWKCNY2L",
        "colab_type": "code",
        "outputId": "fb9843ce-63e5-4f00-bb54-9d8efaddf019",
        "colab": {
          "base_uri": "https://localhost:8080/",
          "height": 370
        }
      },
      "source": [
        "sns.heatmap(bitcoin.corr(), annot=True, cmap='RdYlGn', linewidths=0.1, vmin=0)\n"
      ],
      "execution_count": 15,
      "outputs": [
        {
          "output_type": "execute_result",
          "data": {
            "text/plain": [
              "<matplotlib.axes._subplots.AxesSubplot at 0x7f91800acac8>"
            ]
          },
          "metadata": {
            "tags": []
          },
          "execution_count": 15
        },
        {
          "output_type": "display_data",
          "data": {
            "image/png": "[encoded data removed]",
            "text/plain": [
              "<Figure size 432x288 with 2 Axes>"
            ]
          },
          "metadata": {
            "tags": []
          }
        }
      ]
    },
    {
      "cell_type": "code",
      "metadata": {
        "id": "bmdy0Ta0_Le9",
        "colab_type": "code",
        "outputId": "4bcea35a-1308-4a66-85ab-19ea7ffeb4ad",
        "colab": {
          "base_uri": "https://localhost:8080/",
          "height": 203
        }
      },
      "source": [
        "### Feature Selection Using Correlation Matrix ##########\n",
        "### We eliminate highly correalted features here to get a data set with more better features ######\n",
        "corr = bitcoin.corr()\n",
        "columns = np.full((16,), True, dtype=bool)\n",
        "## Code adapted from https://towardsdatascience.com/feature-selection-correlation-and-p-value-da8921bfb3cf for correlation matrices ###\n",
        "for i in range(16):\n",
        "    for j in range(i+1, corr.shape[0]):\n",
        "        if corr.iloc[i,j] >= 0.9:\n",
        "            if columns[j]:\n",
        "                columns[j] = False\n",
        "selected_columns = bitcoin.columns[columns]\n",
        "dt = bitcoin\n",
        "dt = dt[selected_columns]\n",
        "dt.head()"
      ],
      "execution_count": 18,
      "outputs": [
        {
          "output_type": "execute_result",
          "data": {
            "text/html": [
              "<div>\n",
              "<style scoped>\n",
              "    .dataframe tbody tr th:only-of-type {\n",
              "        vertical-align: middle;\n",
              "    }\n",
              "\n",
              "    .dataframe tbody tr th {\n",
              "        vertical-align: top;\n",
              "    }\n",
              "\n",
              "    .dataframe thead th {\n",
              "        text-align: right;\n",
              "    }\n",
              "</style>\n",
              "<table border=\"1\" class=\"dataframe\">\n",
              "  <thead>\n",
              "    <tr style=\"text-align: right;\">\n",
              "      <th></th>\n",
              "      <th>Timestamp</th>\n",
              "      <th>Open</th>\n",
              "      <th>Volume (BTC)</th>\n",
              "      <th>Volume (Currency)</th>\n",
              "      <th>date</th>\n",
              "      <th>Competition</th>\n",
              "      <th>Model_Price</th>\n",
              "      <th>year_month</th>\n",
              "      <th>Price Ratio</th>\n",
              "      <th>Status</th>\n",
              "      <th>Volatility</th>\n",
              "    </tr>\n",
              "  </thead>\n",
              "  <tbody>\n",
              "    <tr>\n",
              "      <th>0</th>\n",
              "      <td>1325317920</td>\n",
              "      <td>4.39</td>\n",
              "      <td>0.455581</td>\n",
              "      <td>2.000000</td>\n",
              "      <td>2011-12-31</td>\n",
              "      <td>4</td>\n",
              "      <td>32.0</td>\n",
              "      <td>2011-12</td>\n",
              "      <td>0.137187</td>\n",
              "      <td>0</td>\n",
              "      <td>0.00</td>\n",
              "    </tr>\n",
              "    <tr>\n",
              "      <th>478</th>\n",
              "      <td>1325346600</td>\n",
              "      <td>4.39</td>\n",
              "      <td>48.000000</td>\n",
              "      <td>210.720000</td>\n",
              "      <td>2011-12-31</td>\n",
              "      <td>4</td>\n",
              "      <td>32.0</td>\n",
              "      <td>2011-12</td>\n",
              "      <td>0.137187</td>\n",
              "      <td>0</td>\n",
              "      <td>0.00</td>\n",
              "    </tr>\n",
              "    <tr>\n",
              "      <th>547</th>\n",
              "      <td>1325350740</td>\n",
              "      <td>4.50</td>\n",
              "      <td>37.862297</td>\n",
              "      <td>171.380337</td>\n",
              "      <td>2011-12-31</td>\n",
              "      <td>4</td>\n",
              "      <td>32.0</td>\n",
              "      <td>2011-12</td>\n",
              "      <td>0.141450</td>\n",
              "      <td>0</td>\n",
              "      <td>0.07</td>\n",
              "    </tr>\n",
              "    <tr>\n",
              "      <th>548</th>\n",
              "      <td>1325350800</td>\n",
              "      <td>4.58</td>\n",
              "      <td>9.000000</td>\n",
              "      <td>41.220000</td>\n",
              "      <td>2011-12-31</td>\n",
              "      <td>4</td>\n",
              "      <td>32.0</td>\n",
              "      <td>2011-12</td>\n",
              "      <td>0.143125</td>\n",
              "      <td>0</td>\n",
              "      <td>0.00</td>\n",
              "    </tr>\n",
              "    <tr>\n",
              "      <th>1224</th>\n",
              "      <td>1325391360</td>\n",
              "      <td>4.58</td>\n",
              "      <td>1.502000</td>\n",
              "      <td>6.879160</td>\n",
              "      <td>2012-01-01</td>\n",
              "      <td>6</td>\n",
              "      <td>65.0</td>\n",
              "      <td>2012-01</td>\n",
              "      <td>0.070462</td>\n",
              "      <td>0</td>\n",
              "      <td>0.00</td>\n",
              "    </tr>\n",
              "  </tbody>\n",
              "</table>\n",
              "</div>"
            ],
            "text/plain": [
              "       Timestamp  Open  Volume (BTC)  ...  Price Ratio Status  Volatility\n",
              "0     1325317920  4.39      0.455581  ...     0.137187      0        0.00\n",
              "478   1325346600  4.39     48.000000  ...     0.137187      0        0.00\n",
              "547   1325350740  4.50     37.862297  ...     0.141450      0        0.07\n",
              "548   1325350800  4.58      9.000000  ...     0.143125      0        0.00\n",
              "1224  1325391360  4.58      1.502000  ...     0.070462      0        0.00\n",
              "\n",
              "[5 rows x 11 columns]"
            ]
          },
          "metadata": {
            "tags": []
          },
          "execution_count": 18
        }
      ]
    },
    {
      "cell_type": "code",
      "metadata": {
        "id": "GOHzBVROYnlt",
        "colab_type": "code",
        "colab": {}
      },
      "source": [
        "#### MODEL 1: XGBOOST ###\n",
        "#### Loading libraries for running the model ###\n",
        "import seaborn as sns\n",
        "import matplotlib.pyplot as plt\n",
        "from fbprophet import Prophet\n",
        "from sklearn.metrics import mean_squared_error, mean_absolute_error\n",
        "plt.style.use('fivethirtyeight')"
      ],
      "execution_count": 0,
      "outputs": []
    },
    {
      "cell_type": "code",
      "metadata": {
        "id": "9AH7yfs7YvwC",
        "colab_type": "code",
        "colab": {}
      },
      "source": [
        "data = bitcoin\n",
        "data['date'] = pd.to_datetime(data['date'], errors='coerce')\n",
        "\n",
        "data['date'] = data['date'].dt.tz_localize(None)\n",
        "data = data.groupby([pd.Grouper(key='date', freq='H')]).first().reset_index()\n",
        "data = data.set_index('date')\n",
        "data = data[['Price Ratio']]\n",
        "data['Price Ratio'].fillna(method='ffill', inplace=True)\n"
      ],
      "execution_count": 0,
      "outputs": []
    },
    {
      "cell_type": "code",
      "metadata": {
        "id": "Kf-ZfhDs6dwa",
        "colab_type": "code",
        "colab": {}
      },
      "source": [
        "split_date = '25-Jan-2013'\n",
        "data_train = data.loc[data.index <= split_date].copy()\n",
        "data_test = data.loc[data.index > split_date].copy()"
      ],
      "execution_count": 0,
      "outputs": []
    },
    {
      "cell_type": "code",
      "metadata": {
        "id": "dkB8E5gO7WoX",
        "colab_type": "code",
        "colab": {}
      },
      "source": [
        "def create_features(df, label=None):\n",
        "    \"\"\"\n",
        "    Creates time series features from datetime index\n",
        "    \"\"\"\n",
        "    df['date'] = df.index\n",
        "    df['hour'] = df['date'].dt.hour\n",
        "    df['dayofweek'] = df['date'].dt.dayofweek\n",
        "    df['quarter'] = df['date'].dt.quarter\n",
        "    df['month'] = df['date'].dt.month\n",
        "    df['year'] = df['date'].dt.year\n",
        "    df['dayofyear'] = df['date'].dt.dayofyear\n",
        "    df['dayofmonth'] = df['date'].dt.day\n",
        "    df['weekofyear'] = df['date'].dt.weekofyear\n",
        "    \n",
        "    X = df[['hour','dayofweek','quarter','month','year',\n",
        "           'dayofyear','dayofmonth','weekofyear']]\n",
        "    if label:\n",
        "        y = df[label]\n",
        "        return X, y\n",
        "    return X"
      ],
      "execution_count": 0,
      "outputs": []
    },
    {
      "cell_type": "code",
      "metadata": {
        "id": "4FEGLOe_7rQt",
        "colab_type": "code",
        "colab": {}
      },
      "source": [
        "X_train, y_train = create_features(data_train, label='Price Ratio')\n",
        "X_test, y_test = create_features(data_test, label='Price Ratio')"
      ],
      "execution_count": 0,
      "outputs": []
    },
    {
      "cell_type": "code",
      "metadata": {
        "id": "vyGRX60z71-5",
        "colab_type": "code",
        "outputId": "a92b5512-4cfa-4350-cd0d-db2c70342d1b",
        "colab": {
          "base_uri": "https://localhost:8080/",
          "height": 292
        }
      },
      "source": [
        "import xgboost as xgb\n",
        "from xgboost import plot_importance, plot_tree\n",
        "\n",
        "model =  xgb.XGBRegressor(objective ='reg:linear',min_child_weight=10, booster='gbtree', colsample_bytree = 0.3, learning_rate = 0.1,\n",
        "                max_depth = 5, alpha = 10, n_estimators = 100)\n",
        "model.fit(X_train, y_train,\n",
        "        eval_set=[(X_train, y_train), (X_test, y_test)],\n",
        "        early_stopping_rounds=50,\n",
        "       verbose=False)"
      ],
      "execution_count": 24,
      "outputs": [
        {
          "output_type": "stream",
          "text": [
            "/usr/local/lib/python3.6/dist-packages/xgboost/core.py:587: FutureWarning:\n",
            "\n",
            "Series.base is deprecated and will be removed in a future version\n",
            "\n",
            "/usr/local/lib/python3.6/dist-packages/xgboost/core.py:588: FutureWarning:\n",
            "\n",
            "Series.base is deprecated and will be removed in a future version\n",
            "\n"
          ],
          "name": "stderr"
        },
        {
          "output_type": "stream",
          "text": [
            "[19:44:28] WARNING: /workspace/src/objective/regression_obj.cu:152: reg:linear is now deprecated in favor of reg:squarederror.\n"
          ],
          "name": "stdout"
        },
        {
          "output_type": "execute_result",
          "data": {
            "text/plain": [
              "XGBRegressor(alpha=10, base_score=0.5, booster='gbtree', colsample_bylevel=1,\n",
              "             colsample_bynode=1, colsample_bytree=0.3, gamma=0,\n",
              "             importance_type='gain', learning_rate=0.1, max_delta_step=0,\n",
              "             max_depth=5, min_child_weight=10, missing=None, n_estimators=100,\n",
              "             n_jobs=1, nthread=None, objective='reg:linear', random_state=0,\n",
              "             reg_alpha=0, reg_lambda=1, scale_pos_weight=1, seed=None,\n",
              "             silent=None, subsample=1, verbosity=1)"
            ]
          },
          "metadata": {
            "tags": []
          },
          "execution_count": 24
        }
      ]
    },
    {
      "cell_type": "code",
      "metadata": {
        "id": "SO48W_BN85mA",
        "colab_type": "code",
        "colab": {}
      },
      "source": [
        "data_test['Price_Ratio_Prediction'] = model.predict(X_test)\n",
        "data_all = pd.concat([data_test, data_train], sort=False)"
      ],
      "execution_count": 0,
      "outputs": []
    },
    {
      "cell_type": "code",
      "metadata": {
        "id": "fT4QS5Gr9Aq0",
        "colab_type": "code",
        "outputId": "19a49c2f-b73f-4668-e360-b9a0e2851dcc",
        "colab": {
          "base_uri": "https://localhost:8080/",
          "height": 348
        }
      },
      "source": [
        "_ = data_all[['Price Ratio','Price_Ratio_Prediction']].plot(figsize=(15, 5))"
      ],
      "execution_count": 26,
      "outputs": [
        {
          "output_type": "display_data",
          "data": {
            "image/png": "[encoded data removed]",
            "text/plain": [
              "<Figure size 1080x360 with 1 Axes>"
            ]
          },
          "metadata": {
            "tags": []
          }
        }
      ]
    },
    {
      "cell_type": "code",
      "metadata": {
        "id": "zJvcXtYR9MUC",
        "colab_type": "code",
        "outputId": "d389a483-593b-4b34-9c28-8d2e408649d5",
        "colab": {
          "base_uri": "https://localhost:8080/",
          "height": 34
        }
      },
      "source": [
        "mean_squared_error(y_true=data_test['Price Ratio'],\n",
        "                   y_pred=data_test['Price_Ratio_Prediction'])"
      ],
      "execution_count": 27,
      "outputs": [
        {
          "output_type": "execute_result",
          "data": {
            "text/plain": [
              "0.8427317942509599"
            ]
          },
          "metadata": {
            "tags": []
          },
          "execution_count": 27
        }
      ]
    },
    {
      "cell_type": "code",
      "metadata": {
        "id": "gRoqw4USwJ4Q",
        "colab_type": "code",
        "colab": {}
      },
      "source": [
        "######### RNN #########\n",
        "import numpy as np # linear algebra\n",
        "import pandas as pd # data processing, CSV file I/O (e.g. pd.read_csv)\n",
        "import matplotlib.pyplot as plt\n",
        "\n",
        "# Input data files are available in the \"../input/\" directory.\n",
        "# For example, running this (by clicking run or pressing Shift+Enter) will list the files in the input directory\n",
        "import warnings\n",
        "warnings.filterwarnings(\"ignore\")\n",
        "\n"
      ],
      "execution_count": 0,
      "outputs": []
    },
    {
      "cell_type": "code",
      "metadata": {
        "id": "hG1N13FZwhSf",
        "colab_type": "code",
        "colab": {}
      },
      "source": [
        "df = bitcoin[['Price Ratio', 'Volatility', 'Competition','Timestamp','Volume (BTC)']].copy()\n",
        "bit_data = df\n",
        "bit_data[\"date\"]=pd.to_datetime(bit_data[\"Timestamp\"],unit=\"s\").dt.date\n",
        "group=bit_data.groupby(\"date\")\n",
        "data=group[\"Price Ratio\"].mean()"
      ],
      "execution_count": 0,
      "outputs": []
    },
    {
      "cell_type": "code",
      "metadata": {
        "id": "mULQ_gu4wzzx",
        "colab_type": "code",
        "colab": {}
      },
      "source": [
        "price_train=data.iloc[:len(data)-50]\n",
        "price_test=data.iloc[len(price_train):]"
      ],
      "execution_count": 0,
      "outputs": []
    },
    {
      "cell_type": "code",
      "metadata": {
        "id": "NQYZhfzFxDtV",
        "colab_type": "code",
        "colab": {}
      },
      "source": [
        "#feature scaling (set values between 0-1)\n",
        "price_train=np.array(price_train)\n",
        "price_train=price_train.reshape(price_train.shape[0],1)\n",
        "from sklearn.preprocessing import MinMaxScaler\n",
        "scaler=MinMaxScaler(feature_range=(0,1))\n",
        "price_scaled=scaler.fit_transform(price_train)"
      ],
      "execution_count": 0,
      "outputs": []
    },
    {
      "cell_type": "code",
      "metadata": {
        "id": "TkPAKOoUxPoN",
        "colab_type": "code",
        "outputId": "7882a08e-ef43-449d-b162-1cc5d40690a8",
        "colab": {
          "base_uri": "https://localhost:8080/",
          "height": 51
        }
      },
      "source": [
        "timestep=100\n",
        "x_train=[]\n",
        "y_train=[]\n",
        "\n",
        "for i in range(timestep,price_scaled.shape[0]):\n",
        "    x_train.append(price_scaled[i-timestep:i,0])\n",
        "    y_train.append(price_scaled[i,0])\n",
        "\n",
        "x_train,y_train=np.array(x_train),np.array(y_train)\n",
        "x_train=x_train.reshape(x_train.shape[0],x_train.shape[1],1) #reshaped for RNN\n",
        "print(\"x_train shape= \",x_train.shape)\n",
        "print(\"y_train shape= \",y_train.shape)"
      ],
      "execution_count": 32,
      "outputs": [
        {
          "output_type": "stream",
          "text": [
            "x_train shape=  (579, 100, 1)\n",
            "y_train shape=  (579,)\n"
          ],
          "name": "stdout"
        }
      ]
    },
    {
      "cell_type": "code",
      "metadata": {
        "id": "k21YZPrFzCmE",
        "colab_type": "code",
        "outputId": "432ba40a-29b5-4a73-ff5c-074f90b1fc89",
        "colab": {
          "base_uri": "https://localhost:8080/",
          "height": 1000
        }
      },
      "source": [
        "## Some parts of this code are adapted from https://github.com/kaggle/docker-python and Stackoverflow\n",
        "from keras.models import Sequential\n",
        "from keras.layers import Dense, SimpleRNN, Dropout,Flatten\n",
        "\n",
        "regressor=Sequential()\n",
        "#first RNN layer\n",
        "regressor.add(SimpleRNN(128,activation=\"relu\",return_sequences=True,input_shape=(x_train.shape[1],1)))\n",
        "regressor.add(Dropout(0.25))\n",
        "#second RNN layer\n",
        "regressor.add(SimpleRNN(256,activation=\"relu\",return_sequences=True))\n",
        "regressor.add(Dropout(0.25))\n",
        "#third RNN layer\n",
        "regressor.add(SimpleRNN(512,activation=\"relu\",return_sequences=True))\n",
        "regressor.add(Dropout(0.35))\n",
        "#fourth RNN layer\n",
        "regressor.add(SimpleRNN(256,activation=\"relu\",return_sequences=True))\n",
        "regressor.add(Dropout(0.25))\n",
        "#fifth RNN layer\n",
        "regressor.add(SimpleRNN(128,activation=\"relu\",return_sequences=True))\n",
        "regressor.add(Dropout(0.25))\n",
        "#convert the matrix to 1-line\n",
        "regressor.add(Flatten())\n",
        "#output layer\n",
        "regressor.add(Dense(1))\n",
        "\n",
        "regressor.compile(optimizer=\"adam\",loss=\"mean_squared_error\")\n",
        "regressor.fit(x_train,y_train,epochs=100,batch_size=64)"
      ],
      "execution_count": 33,
      "outputs": [
        {
          "output_type": "stream",
          "text": [
            "WARNING:tensorflow:From /usr/local/lib/python3.6/dist-packages/keras/backend/tensorflow_backend.py:66: The name tf.get_default_graph is deprecated. Please use tf.compat.v1.get_default_graph instead.\n",
            "\n"
          ],
          "name": "stdout"
        },
        {
          "output_type": "stream",
          "text": [
            "WARNING:tensorflow:From /usr/local/lib/python3.6/dist-packages/keras/backend/tensorflow_backend.py:66: The name tf.get_default_graph is deprecated. Please use tf.compat.v1.get_default_graph instead.\n",
            "\n"
          ],
          "name": "stderr"
        },
        {
          "output_type": "stream",
          "text": [
            "WARNING:tensorflow:From /usr/local/lib/python3.6/dist-packages/keras/backend/tensorflow_backend.py:541: The name tf.placeholder is deprecated. Please use tf.compat.v1.placeholder instead.\n",
            "\n"
          ],
          "name": "stdout"
        },
        {
          "output_type": "stream",
          "text": [
            "WARNING:tensorflow:From /usr/local/lib/python3.6/dist-packages/keras/backend/tensorflow_backend.py:541: The name tf.placeholder is deprecated. Please use tf.compat.v1.placeholder instead.\n",
            "\n"
          ],
          "name": "stderr"
        },
        {
          "output_type": "stream",
          "text": [
            "WARNING:tensorflow:From /usr/local/lib/python3.6/dist-packages/keras/backend/tensorflow_backend.py:4432: The name tf.random_uniform is deprecated. Please use tf.random.uniform instead.\n",
            "\n"
          ],
          "name": "stdout"
        },
        {
          "output_type": "stream",
          "text": [
            "WARNING:tensorflow:From /usr/local/lib/python3.6/dist-packages/keras/backend/tensorflow_backend.py:4432: The name tf.random_uniform is deprecated. Please use tf.random.uniform instead.\n",
            "\n"
          ],
          "name": "stderr"
        },
        {
          "output_type": "stream",
          "text": [
            "WARNING:tensorflow:From /usr/local/lib/python3.6/dist-packages/keras/backend/tensorflow_backend.py:148: The name tf.placeholder_with_default is deprecated. Please use tf.compat.v1.placeholder_with_default instead.\n",
            "\n"
          ],
          "name": "stdout"
        },
        {
          "output_type": "stream",
          "text": [
            "WARNING:tensorflow:From /usr/local/lib/python3.6/dist-packages/keras/backend/tensorflow_backend.py:148: The name tf.placeholder_with_default is deprecated. Please use tf.compat.v1.placeholder_with_default instead.\n",
            "\n"
          ],
          "name": "stderr"
        },
        {
          "output_type": "stream",
          "text": [
            "WARNING:tensorflow:From /usr/local/lib/python3.6/dist-packages/keras/backend/tensorflow_backend.py:3733: calling dropout (from tensorflow.python.ops.nn_ops) with keep_prob is deprecated and will be removed in a future version.\n",
            "Instructions for updating:\n",
            "Please use `rate` instead of `keep_prob`. Rate should be set to `rate = 1 - keep_prob`.\n"
          ],
          "name": "stdout"
        },
        {
          "output_type": "stream",
          "text": [
            "WARNING:tensorflow:From /usr/local/lib/python3.6/dist-packages/keras/backend/tensorflow_backend.py:3733: calling dropout (from tensorflow.python.ops.nn_ops) with keep_prob is deprecated and will be removed in a future version.\n",
            "Instructions for updating:\n",
            "Please use `rate` instead of `keep_prob`. Rate should be set to `rate = 1 - keep_prob`.\n"
          ],
          "name": "stderr"
        },
        {
          "output_type": "stream",
          "text": [
            "WARNING:tensorflow:From /usr/local/lib/python3.6/dist-packages/keras/optimizers.py:793: The name tf.train.Optimizer is deprecated. Please use tf.compat.v1.train.Optimizer instead.\n",
            "\n"
          ],
          "name": "stdout"
        },
        {
          "output_type": "stream",
          "text": [
            "WARNING:tensorflow:From /usr/local/lib/python3.6/dist-packages/keras/optimizers.py:793: The name tf.train.Optimizer is deprecated. Please use tf.compat.v1.train.Optimizer instead.\n",
            "\n"
          ],
          "name": "stderr"
        },
        {
          "output_type": "stream",
          "text": [
            "WARNING:tensorflow:From /usr/local/lib/python3.6/dist-packages/keras/backend/tensorflow_backend.py:1033: The name tf.assign_add is deprecated. Please use tf.compat.v1.assign_add instead.\n",
            "\n"
          ],
          "name": "stdout"
        },
        {
          "output_type": "stream",
          "text": [
            "WARNING:tensorflow:From /usr/local/lib/python3.6/dist-packages/keras/backend/tensorflow_backend.py:1033: The name tf.assign_add is deprecated. Please use tf.compat.v1.assign_add instead.\n",
            "\n"
          ],
          "name": "stderr"
        },
        {
          "output_type": "stream",
          "text": [
            "WARNING:tensorflow:From /usr/local/lib/python3.6/dist-packages/keras/backend/tensorflow_backend.py:1020: The name tf.assign is deprecated. Please use tf.compat.v1.assign instead.\n",
            "\n"
          ],
          "name": "stdout"
        },
        {
          "output_type": "stream",
          "text": [
            "WARNING:tensorflow:From /usr/local/lib/python3.6/dist-packages/keras/backend/tensorflow_backend.py:1020: The name tf.assign is deprecated. Please use tf.compat.v1.assign instead.\n",
            "\n"
          ],
          "name": "stderr"
        },
        {
          "output_type": "stream",
          "text": [
            "WARNING:tensorflow:From /usr/local/lib/python3.6/dist-packages/keras/backend/tensorflow_backend.py:3005: The name tf.Session is deprecated. Please use tf.compat.v1.Session instead.\n",
            "\n"
          ],
          "name": "stdout"
        },
        {
          "output_type": "stream",
          "text": [
            "WARNING:tensorflow:From /usr/local/lib/python3.6/dist-packages/keras/backend/tensorflow_backend.py:3005: The name tf.Session is deprecated. Please use tf.compat.v1.Session instead.\n",
            "\n"
          ],
          "name": "stderr"
        },
        {
          "output_type": "stream",
          "text": [
            "Epoch 1/100\n",
            "WARNING:tensorflow:From /usr/local/lib/python3.6/dist-packages/keras/backend/tensorflow_backend.py:190: The name tf.get_default_session is deprecated. Please use tf.compat.v1.get_default_session instead.\n",
            "\n"
          ],
          "name": "stdout"
        },
        {
          "output_type": "stream",
          "text": [
            "WARNING:tensorflow:From /usr/local/lib/python3.6/dist-packages/keras/backend/tensorflow_backend.py:190: The name tf.get_default_session is deprecated. Please use tf.compat.v1.get_default_session instead.\n",
            "\n"
          ],
          "name": "stderr"
        },
        {
          "output_type": "stream",
          "text": [
            "WARNING:tensorflow:From /usr/local/lib/python3.6/dist-packages/keras/backend/tensorflow_backend.py:197: The name tf.ConfigProto is deprecated. Please use tf.compat.v1.ConfigProto instead.\n",
            "\n"
          ],
          "name": "stdout"
        },
        {
          "output_type": "stream",
          "text": [
            "WARNING:tensorflow:From /usr/local/lib/python3.6/dist-packages/keras/backend/tensorflow_backend.py:197: The name tf.ConfigProto is deprecated. Please use tf.compat.v1.ConfigProto instead.\n",
            "\n"
          ],
          "name": "stderr"
        },
        {
          "output_type": "stream",
          "text": [
            "WARNING:tensorflow:From /usr/local/lib/python3.6/dist-packages/keras/backend/tensorflow_backend.py:207: The name tf.global_variables is deprecated. Please use tf.compat.v1.global_variables instead.\n",
            "\n"
          ],
          "name": "stdout"
        },
        {
          "output_type": "stream",
          "text": [
            "WARNING:tensorflow:From /usr/local/lib/python3.6/dist-packages/keras/backend/tensorflow_backend.py:207: The name tf.global_variables is deprecated. Please use tf.compat.v1.global_variables instead.\n",
            "\n"
          ],
          "name": "stderr"
        },
        {
          "output_type": "stream",
          "text": [
            "WARNING:tensorflow:From /usr/local/lib/python3.6/dist-packages/keras/backend/tensorflow_backend.py:216: The name tf.is_variable_initialized is deprecated. Please use tf.compat.v1.is_variable_initialized instead.\n",
            "\n"
          ],
          "name": "stdout"
        },
        {
          "output_type": "stream",
          "text": [
            "WARNING:tensorflow:From /usr/local/lib/python3.6/dist-packages/keras/backend/tensorflow_backend.py:216: The name tf.is_variable_initialized is deprecated. Please use tf.compat.v1.is_variable_initialized instead.\n",
            "\n"
          ],
          "name": "stderr"
        },
        {
          "output_type": "stream",
          "text": [
            "WARNING:tensorflow:From /usr/local/lib/python3.6/dist-packages/keras/backend/tensorflow_backend.py:223: The name tf.variables_initializer is deprecated. Please use tf.compat.v1.variables_initializer instead.\n",
            "\n"
          ],
          "name": "stdout"
        },
        {
          "output_type": "stream",
          "text": [
            "WARNING:tensorflow:From /usr/local/lib/python3.6/dist-packages/keras/backend/tensorflow_backend.py:223: The name tf.variables_initializer is deprecated. Please use tf.compat.v1.variables_initializer instead.\n",
            "\n"
          ],
          "name": "stderr"
        },
        {
          "output_type": "stream",
          "text": [
            "579/579 [==============================] - 12s 20ms/step - loss: 0.0702\n",
            "Epoch 2/100\n",
            "579/579 [==============================] - 10s 17ms/step - loss: 0.0165\n",
            "Epoch 3/100\n",
            "579/579 [==============================] - 10s 17ms/step - loss: 0.0098\n",
            "Epoch 4/100\n",
            "579/579 [==============================] - 10s 17ms/step - loss: 0.0075\n",
            "Epoch 5/100\n",
            "579/579 [==============================] - 10s 17ms/step - loss: 0.0051\n",
            "Epoch 6/100\n",
            "579/579 [==============================] - 10s 17ms/step - loss: 0.0055\n",
            "Epoch 7/100\n",
            "579/579 [==============================] - 10s 17ms/step - loss: 0.0044\n",
            "Epoch 8/100\n",
            "579/579 [==============================] - 10s 17ms/step - loss: 0.0045\n",
            "Epoch 9/100\n",
            "579/579 [==============================] - 10s 17ms/step - loss: 0.0057\n",
            "Epoch 10/100\n",
            "579/579 [==============================] - 10s 17ms/step - loss: 0.0041\n",
            "Epoch 11/100\n",
            "579/579 [==============================] - 10s 17ms/step - loss: 0.0039\n",
            "Epoch 12/100\n",
            "579/579 [==============================] - 10s 17ms/step - loss: 0.0041\n",
            "Epoch 13/100\n",
            "579/579 [==============================] - 10s 17ms/step - loss: 0.0037\n",
            "Epoch 14/100\n",
            "579/579 [==============================] - 10s 18ms/step - loss: 0.0037\n",
            "Epoch 15/100\n",
            "579/579 [==============================] - 10s 17ms/step - loss: 0.0040\n",
            "Epoch 16/100\n",
            "579/579 [==============================] - 10s 18ms/step - loss: 0.0043\n",
            "Epoch 17/100\n",
            "579/579 [==============================] - 10s 18ms/step - loss: 0.0097\n",
            "Epoch 18/100\n",
            "579/579 [==============================] - 10s 18ms/step - loss: 0.0042\n",
            "Epoch 19/100\n",
            "579/579 [==============================] - 10s 17ms/step - loss: 0.0035\n",
            "Epoch 20/100\n",
            "579/579 [==============================] - 10s 18ms/step - loss: 0.0036\n",
            "Epoch 21/100\n",
            "579/579 [==============================] - 10s 18ms/step - loss: 0.0063\n",
            "Epoch 22/100\n",
            "579/579 [==============================] - 10s 18ms/step - loss: 0.0040\n",
            "Epoch 23/100\n",
            "579/579 [==============================] - 10s 18ms/step - loss: 0.0039\n",
            "Epoch 24/100\n",
            "579/579 [==============================] - 10s 18ms/step - loss: 0.0035\n",
            "Epoch 25/100\n",
            "579/579 [==============================] - 10s 17ms/step - loss: 0.0030\n",
            "Epoch 26/100\n",
            "579/579 [==============================] - 10s 18ms/step - loss: 0.0029\n",
            "Epoch 27/100\n",
            "579/579 [==============================] - 10s 17ms/step - loss: 0.0028\n",
            "Epoch 28/100\n",
            "579/579 [==============================] - 10s 18ms/step - loss: 0.0028\n",
            "Epoch 29/100\n",
            "579/579 [==============================] - 10s 17ms/step - loss: 0.0035\n",
            "Epoch 30/100\n",
            "579/579 [==============================] - 10s 17ms/step - loss: 0.0032\n",
            "Epoch 31/100\n",
            "579/579 [==============================] - 10s 17ms/step - loss: 0.0027\n",
            "Epoch 32/100\n",
            "579/579 [==============================] - 10s 17ms/step - loss: 0.0024\n",
            "Epoch 33/100\n",
            "579/579 [==============================] - 10s 17ms/step - loss: 0.0024\n",
            "Epoch 34/100\n",
            "579/579 [==============================] - 10s 17ms/step - loss: 0.0023\n",
            "Epoch 35/100\n",
            "579/579 [==============================] - 10s 17ms/step - loss: 0.0028\n",
            "Epoch 36/100\n",
            "579/579 [==============================] - 10s 17ms/step - loss: 0.0029\n",
            "Epoch 37/100\n",
            "579/579 [==============================] - 10s 17ms/step - loss: 0.0027\n",
            "Epoch 38/100\n",
            "579/579 [==============================] - 10s 17ms/step - loss: 0.0027\n",
            "Epoch 39/100\n",
            "579/579 [==============================] - 10s 17ms/step - loss: 0.0024\n",
            "Epoch 40/100\n",
            "579/579 [==============================] - 10s 17ms/step - loss: 0.0022\n",
            "Epoch 41/100\n",
            "579/579 [==============================] - 10s 17ms/step - loss: 0.0022\n",
            "Epoch 42/100\n",
            "579/579 [==============================] - 10s 17ms/step - loss: 0.0033\n",
            "Epoch 43/100\n",
            "579/579 [==============================] - 10s 17ms/step - loss: 0.0022\n",
            "Epoch 44/100\n",
            "579/579 [==============================] - 10s 17ms/step - loss: 0.0032\n",
            "Epoch 45/100\n",
            "579/579 [==============================] - 10s 17ms/step - loss: 0.0029\n",
            "Epoch 46/100\n",
            "579/579 [==============================] - 10s 17ms/step - loss: 0.0023\n",
            "Epoch 47/100\n",
            "579/579 [==============================] - 10s 18ms/step - loss: 0.0019\n",
            "Epoch 48/100\n",
            "579/579 [==============================] - 10s 17ms/step - loss: 0.0021\n",
            "Epoch 49/100\n",
            "579/579 [==============================] - 10s 18ms/step - loss: 0.0020\n",
            "Epoch 50/100\n",
            "579/579 [==============================] - 10s 18ms/step - loss: 0.0019\n",
            "Epoch 51/100\n",
            "579/579 [==============================] - 10s 18ms/step - loss: 0.0017\n",
            "Epoch 52/100\n",
            "579/579 [==============================] - 10s 18ms/step - loss: 0.0018\n",
            "Epoch 53/100\n",
            "579/579 [==============================] - 10s 18ms/step - loss: 0.0020\n",
            "Epoch 54/100\n",
            "579/579 [==============================] - 10s 17ms/step - loss: 0.0023\n",
            "Epoch 55/100\n",
            "579/579 [==============================] - 10s 17ms/step - loss: 0.0024\n",
            "Epoch 56/100\n",
            "579/579 [==============================] - 10s 18ms/step - loss: 0.0019\n",
            "Epoch 57/100\n",
            "579/579 [==============================] - 10s 17ms/step - loss: 0.0021\n",
            "Epoch 58/100\n",
            "579/579 [==============================] - 10s 18ms/step - loss: 0.0017\n",
            "Epoch 59/100\n",
            "579/579 [==============================] - 10s 18ms/step - loss: 0.0016\n",
            "Epoch 60/100\n",
            "579/579 [==============================] - 10s 18ms/step - loss: 0.0014\n",
            "Epoch 61/100\n",
            "579/579 [==============================] - 10s 18ms/step - loss: 0.0015\n",
            "Epoch 62/100\n",
            "579/579 [==============================] - 10s 18ms/step - loss: 0.0058\n",
            "Epoch 63/100\n",
            "579/579 [==============================] - 10s 17ms/step - loss: 0.0028\n",
            "Epoch 64/100\n",
            "579/579 [==============================] - 10s 18ms/step - loss: 0.0021\n",
            "Epoch 65/100\n",
            "579/579 [==============================] - 10s 18ms/step - loss: 0.0021\n",
            "Epoch 66/100\n",
            "579/579 [==============================] - 10s 18ms/step - loss: 0.0019\n",
            "Epoch 67/100\n",
            "579/579 [==============================] - 10s 18ms/step - loss: 0.0016\n",
            "Epoch 68/100\n",
            "579/579 [==============================] - 10s 18ms/step - loss: 0.0015\n",
            "Epoch 69/100\n",
            "579/579 [==============================] - 10s 18ms/step - loss: 0.0019\n",
            "Epoch 70/100\n",
            "579/579 [==============================] - 10s 18ms/step - loss: 0.0022\n",
            "Epoch 71/100\n",
            "579/579 [==============================] - 10s 18ms/step - loss: 0.0016\n",
            "Epoch 72/100\n",
            "579/579 [==============================] - 10s 17ms/step - loss: 0.0017\n",
            "Epoch 73/100\n",
            "579/579 [==============================] - 10s 18ms/step - loss: 0.0023\n",
            "Epoch 74/100\n",
            "579/579 [==============================] - 10s 17ms/step - loss: 0.0030\n",
            "Epoch 75/100\n",
            "579/579 [==============================] - 10s 17ms/step - loss: 0.0022\n",
            "Epoch 76/100\n",
            "579/579 [==============================] - 10s 18ms/step - loss: 0.0021\n",
            "Epoch 77/100\n",
            "579/579 [==============================] - 10s 18ms/step - loss: 0.0017\n",
            "Epoch 78/100\n",
            "579/579 [==============================] - 10s 18ms/step - loss: 0.0021\n",
            "Epoch 79/100\n",
            "579/579 [==============================] - 10s 18ms/step - loss: 0.0017\n",
            "Epoch 80/100\n",
            "579/579 [==============================] - 10s 17ms/step - loss: 0.0016\n",
            "Epoch 81/100\n",
            "579/579 [==============================] - 10s 18ms/step - loss: 0.0014\n",
            "Epoch 82/100\n",
            "579/579 [==============================] - 10s 18ms/step - loss: 0.0016\n",
            "Epoch 83/100\n",
            "579/579 [==============================] - 10s 18ms/step - loss: 0.0012\n",
            "Epoch 84/100\n",
            "579/579 [==============================] - 10s 18ms/step - loss: 0.0014\n",
            "Epoch 85/100\n",
            "579/579 [==============================] - 10s 18ms/step - loss: 0.0014\n",
            "Epoch 86/100\n",
            "579/579 [==============================] - 10s 17ms/step - loss: 0.0012\n",
            "Epoch 87/100\n",
            "579/579 [==============================] - 10s 17ms/step - loss: 0.0010\n",
            "Epoch 88/100\n",
            "579/579 [==============================] - 10s 18ms/step - loss: 0.0011\n",
            "Epoch 89/100\n",
            "579/579 [==============================] - 10s 18ms/step - loss: 0.0013\n",
            "Epoch 90/100\n",
            "579/579 [==============================] - 10s 17ms/step - loss: 0.0015\n",
            "Epoch 91/100\n",
            "579/579 [==============================] - 10s 18ms/step - loss: 0.0014\n",
            "Epoch 92/100\n",
            "579/579 [==============================] - 10s 17ms/step - loss: 0.0011\n",
            "Epoch 93/100\n",
            "579/579 [==============================] - 10s 17ms/step - loss: 0.0013\n",
            "Epoch 94/100\n",
            "579/579 [==============================] - 10s 18ms/step - loss: 0.0012\n",
            "Epoch 95/100\n",
            "579/579 [==============================] - 10s 18ms/step - loss: 0.0015\n",
            "Epoch 96/100\n",
            "579/579 [==============================] - 10s 17ms/step - loss: 9.7664e-04\n",
            "Epoch 97/100\n",
            "579/579 [==============================] - 10s 17ms/step - loss: 0.0021\n",
            "Epoch 98/100\n",
            "579/579 [==============================] - 10s 18ms/step - loss: 0.0016\n",
            "Epoch 99/100\n",
            "579/579 [==============================] - 10s 17ms/step - loss: 0.0015\n",
            "Epoch 100/100\n",
            "579/579 [==============================] - 10s 18ms/step - loss: 0.0011\n"
          ],
          "name": "stdout"
        },
        {
          "output_type": "execute_result",
          "data": {
            "text/plain": [
              "<keras.callbacks.History at 0x7f9176a3df60>"
            ]
          },
          "metadata": {
            "tags": []
          },
          "execution_count": 33
        }
      ]
    },
    {
      "cell_type": "code",
      "metadata": {
        "id": "ba-50RjazZZE",
        "colab_type": "code",
        "colab": {}
      },
      "source": [
        "## Transforming inputs and reshaping them to feed in neural nets ###\n",
        "inputs=data[len(data)-len(price_test)-timestep:]\n",
        "inputs=inputs.values.reshape(-1,1)\n",
        "inputs=scaler.transform(inputs)"
      ],
      "execution_count": 0,
      "outputs": []
    },
    {
      "cell_type": "code",
      "metadata": {
        "id": "XyJIZ8y_zf11",
        "colab_type": "code",
        "colab": {}
      },
      "source": [
        "## Some parts of this code are adapted from https://github.com/kaggle/docker-python and Stackoverflow\n",
        "x_test=[]\n",
        "for i in range(timestep,inputs.shape[0]):\n",
        "    x_test.append(inputs[i-timestep:i,0])\n",
        "x_test=np.array(x_test)\n",
        "x_test=x_test.reshape(x_test.shape[0],x_test.shape[1],1)"
      ],
      "execution_count": 0,
      "outputs": []
    },
    {
      "cell_type": "code",
      "metadata": {
        "id": "7QUKY5GjzjOz",
        "colab_type": "code",
        "colab": {}
      },
      "source": [
        "## Making Predictions #####\n",
        "predicted_data=regressor.predict(x_test)\n",
        "predicted_data=scaler.inverse_transform(predicted_data)"
      ],
      "execution_count": 0,
      "outputs": []
    },
    {
      "cell_type": "code",
      "metadata": {
        "id": "fzhteMM6zlG4",
        "colab_type": "code",
        "colab": {}
      },
      "source": [
        "data_test=np.array(price_test)\n",
        "data_test=data_test.reshape(len(data_test),1)"
      ],
      "execution_count": 0,
      "outputs": []
    },
    {
      "cell_type": "code",
      "metadata": {
        "id": "OjTy91M2zq00",
        "colab_type": "code",
        "outputId": "776f780e-a943-437c-e4cf-ab849d56036d",
        "colab": {
          "base_uri": "https://localhost:8080/",
          "height": 334
        }
      },
      "source": [
        "## Plotting predicted and actual time series for test data ##########\n",
        "plt.figure(figsize=(8,4), dpi=80, facecolor='w', edgecolor='k')\n",
        "plt.plot(data_test,color=\"g\",label=\"true result\")\n",
        "plt.plot(predicted_data,color=\"b\",label=\"predicted result\")\n",
        "plt.legend()\n",
        "plt.xlabel(\"Time(days)\")\n",
        "plt.ylabel(\"Price Ratio Values\")\n",
        "plt.grid(True)\n",
        "plt.show()"
      ],
      "execution_count": 38,
      "outputs": [
        {
          "output_type": "display_data",
          "data": {
            "image/png": "[encoded data removed]",
            "text/plain": [
              "<Figure size 640x320 with 1 Axes>"
            ]
          },
          "metadata": {
            "tags": []
          }
        }
      ]
    },
    {
      "cell_type": "code",
      "metadata": {
        "id": "PxqeygcF1NHV",
        "colab_type": "code",
        "outputId": "33918131-abdc-4e41-e2c3-10cd5d304df2",
        "colab": {
          "base_uri": "https://localhost:8080/",
          "height": 34
        }
      },
      "source": [
        "### RMSE for RNN ##########\n",
        "from sklearn.metrics import mean_squared_error\n",
        "from math import sqrt\n",
        "\n",
        "rms = sqrt(mean_squared_error(data_test, predicted_data))\n",
        "print(rms)"
      ],
      "execution_count": 0,
      "outputs": [
        {
          "output_type": "stream",
          "text": [
            "0.6658086436468782\n"
          ],
          "name": "stdout"
        }
      ]
    },
    {
      "cell_type": "code",
      "metadata": {
        "id": "hM50SklEz4XA",
        "colab_type": "code",
        "outputId": "ffc9166a-cf3d-4a0c-ea9c-bcb563af8aa8",
        "colab": {
          "base_uri": "https://localhost:8080/",
          "height": 1000
        }
      },
      "source": [
        "######## Comparison with Long Short Term Memory (LSTM) neural net  ##########\n",
        "from sklearn.metrics import mean_absolute_error\n",
        "from keras.models import Sequential\n",
        "from keras.layers import Dense, LSTM, Dropout,Flatten\n",
        "\n",
        "model=Sequential()\n",
        "\n",
        "model.add(LSTM(10,input_shape=(None,1),activation=\"relu\"))\n",
        "\n",
        "model.add(Dense(1))\n",
        "\n",
        "model.compile(loss=\"mean_squared_error\",optimizer=\"adam\")\n",
        "\n",
        "model.fit(x_train,y_train,epochs=100,batch_size=32)"
      ],
      "execution_count": 39,
      "outputs": [
        {
          "output_type": "stream",
          "text": [
            "WARNING:tensorflow:From /usr/local/lib/python3.6/dist-packages/tensorflow_core/python/ops/math_grad.py:1424: where (from tensorflow.python.ops.array_ops) is deprecated and will be removed in a future version.\n",
            "Instructions for updating:\n",
            "Use tf.where in 2.0, which has the same broadcast rule as np.where\n"
          ],
          "name": "stdout"
        },
        {
          "output_type": "stream",
          "text": [
            "WARNING:tensorflow:From /usr/local/lib/python3.6/dist-packages/tensorflow_core/python/ops/math_grad.py:1424: where (from tensorflow.python.ops.array_ops) is deprecated and will be removed in a future version.\n",
            "Instructions for updating:\n",
            "Use tf.where in 2.0, which has the same broadcast rule as np.where\n"
          ],
          "name": "stderr"
        },
        {
          "output_type": "stream",
          "text": [
            "Epoch 1/100\n",
            "579/579 [==============================] - 2s 3ms/step - loss: 0.0761\n",
            "Epoch 2/100\n",
            "579/579 [==============================] - 1s 2ms/step - loss: 0.0504\n",
            "Epoch 3/100\n",
            "579/579 [==============================] - 1s 2ms/step - loss: 0.0303\n",
            "Epoch 4/100\n",
            "579/579 [==============================] - 1s 2ms/step - loss: 0.0188\n",
            "Epoch 5/100\n",
            "579/579 [==============================] - 1s 2ms/step - loss: 0.0141\n",
            "Epoch 6/100\n",
            "579/579 [==============================] - 1s 2ms/step - loss: 0.0102\n",
            "Epoch 7/100\n",
            "579/579 [==============================] - 1s 2ms/step - loss: 0.0072\n",
            "Epoch 8/100\n",
            "579/579 [==============================] - 1s 2ms/step - loss: 0.0057\n",
            "Epoch 9/100\n",
            "579/579 [==============================] - 1s 2ms/step - loss: 0.0053\n",
            "Epoch 10/100\n",
            "579/579 [==============================] - 1s 2ms/step - loss: 0.0050\n",
            "Epoch 11/100\n",
            "579/579 [==============================] - 1s 2ms/step - loss: 0.0048\n",
            "Epoch 12/100\n",
            "579/579 [==============================] - 1s 2ms/step - loss: 0.0046\n",
            "Epoch 13/100\n",
            "579/579 [==============================] - 1s 2ms/step - loss: 0.0044\n",
            "Epoch 14/100\n",
            "579/579 [==============================] - 1s 2ms/step - loss: 0.0043\n",
            "Epoch 15/100\n",
            "579/579 [==============================] - 1s 2ms/step - loss: 0.0041\n",
            "Epoch 16/100\n",
            "579/579 [==============================] - 1s 2ms/step - loss: 0.0040\n",
            "Epoch 17/100\n",
            "579/579 [==============================] - 1s 2ms/step - loss: 0.0041\n",
            "Epoch 18/100\n",
            "579/579 [==============================] - 1s 2ms/step - loss: 0.0038\n",
            "Epoch 19/100\n",
            "579/579 [==============================] - 1s 2ms/step - loss: 0.0039\n",
            "Epoch 20/100\n",
            "579/579 [==============================] - 1s 2ms/step - loss: 0.0036\n",
            "Epoch 21/100\n",
            "579/579 [==============================] - 1s 2ms/step - loss: 0.0036\n",
            "Epoch 22/100\n",
            "579/579 [==============================] - 1s 2ms/step - loss: 0.0035\n",
            "Epoch 23/100\n",
            "579/579 [==============================] - 1s 2ms/step - loss: 0.0035\n",
            "Epoch 24/100\n",
            "579/579 [==============================] - 1s 2ms/step - loss: 0.0034\n",
            "Epoch 25/100\n",
            "579/579 [==============================] - 1s 2ms/step - loss: 0.0033\n",
            "Epoch 26/100\n",
            "579/579 [==============================] - 1s 2ms/step - loss: 0.0032\n",
            "Epoch 27/100\n",
            "579/579 [==============================] - 1s 2ms/step - loss: 0.0032\n",
            "Epoch 28/100\n",
            "579/579 [==============================] - 1s 2ms/step - loss: 0.0031\n",
            "Epoch 29/100\n",
            "579/579 [==============================] - 1s 2ms/step - loss: 0.0032\n",
            "Epoch 30/100\n",
            "579/579 [==============================] - 1s 2ms/step - loss: 0.0030\n",
            "Epoch 31/100\n",
            "579/579 [==============================] - 1s 2ms/step - loss: 0.0030\n",
            "Epoch 32/100\n",
            "579/579 [==============================] - 1s 2ms/step - loss: 0.0029\n",
            "Epoch 33/100\n",
            "579/579 [==============================] - 1s 2ms/step - loss: 0.0032\n",
            "Epoch 34/100\n",
            "579/579 [==============================] - 1s 2ms/step - loss: 0.0029\n",
            "Epoch 35/100\n",
            "579/579 [==============================] - 1s 2ms/step - loss: 0.0027\n",
            "Epoch 36/100\n",
            "579/579 [==============================] - 1s 2ms/step - loss: 0.0028\n",
            "Epoch 37/100\n",
            "579/579 [==============================] - 1s 2ms/step - loss: 0.0027\n",
            "Epoch 38/100\n",
            "579/579 [==============================] - 1s 2ms/step - loss: 0.0026\n",
            "Epoch 39/100\n",
            "579/579 [==============================] - 1s 2ms/step - loss: 0.0026\n",
            "Epoch 40/100\n",
            "579/579 [==============================] - 1s 2ms/step - loss: 0.0026\n",
            "Epoch 41/100\n",
            "579/579 [==============================] - 1s 2ms/step - loss: 0.0026\n",
            "Epoch 42/100\n",
            "579/579 [==============================] - 1s 2ms/step - loss: 0.0025\n",
            "Epoch 43/100\n",
            "579/579 [==============================] - 1s 2ms/step - loss: 0.0025\n",
            "Epoch 44/100\n",
            "579/579 [==============================] - 1s 2ms/step - loss: 0.0025\n",
            "Epoch 45/100\n",
            "579/579 [==============================] - 1s 2ms/step - loss: 0.0025\n",
            "Epoch 46/100\n",
            "579/579 [==============================] - 1s 2ms/step - loss: 0.0025\n",
            "Epoch 47/100\n",
            "579/579 [==============================] - 1s 2ms/step - loss: 0.0024\n",
            "Epoch 48/100\n",
            "579/579 [==============================] - 1s 2ms/step - loss: 0.0024\n",
            "Epoch 49/100\n",
            "579/579 [==============================] - 1s 2ms/step - loss: 0.0024\n",
            "Epoch 50/100\n",
            "579/579 [==============================] - 1s 2ms/step - loss: 0.0023\n",
            "Epoch 51/100\n",
            "579/579 [==============================] - 1s 2ms/step - loss: 0.0023\n",
            "Epoch 52/100\n",
            "579/579 [==============================] - 1s 2ms/step - loss: 0.0023\n",
            "Epoch 53/100\n",
            "579/579 [==============================] - 1s 2ms/step - loss: 0.0022\n",
            "Epoch 54/100\n",
            "579/579 [==============================] - 1s 2ms/step - loss: 0.0022\n",
            "Epoch 55/100\n",
            "579/579 [==============================] - 1s 2ms/step - loss: 0.0022\n",
            "Epoch 56/100\n",
            "579/579 [==============================] - 1s 2ms/step - loss: 0.0022\n",
            "Epoch 57/100\n",
            "579/579 [==============================] - 1s 2ms/step - loss: 0.0022\n",
            "Epoch 58/100\n",
            "579/579 [==============================] - 1s 2ms/step - loss: 0.0022\n",
            "Epoch 59/100\n",
            "579/579 [==============================] - 1s 2ms/step - loss: 0.0022\n",
            "Epoch 60/100\n",
            "579/579 [==============================] - 1s 2ms/step - loss: 0.0021\n",
            "Epoch 61/100\n",
            "579/579 [==============================] - 1s 2ms/step - loss: 0.0021\n",
            "Epoch 62/100\n",
            "579/579 [==============================] - 1s 2ms/step - loss: 0.0021\n",
            "Epoch 63/100\n",
            "579/579 [==============================] - 1s 2ms/step - loss: 0.0022\n",
            "Epoch 64/100\n",
            "579/579 [==============================] - 1s 2ms/step - loss: 0.0021\n",
            "Epoch 65/100\n",
            "579/579 [==============================] - 1s 2ms/step - loss: 0.0020\n",
            "Epoch 66/100\n",
            "579/579 [==============================] - 1s 2ms/step - loss: 0.0020\n",
            "Epoch 67/100\n",
            "579/579 [==============================] - 1s 2ms/step - loss: 0.0020\n",
            "Epoch 68/100\n",
            "579/579 [==============================] - 1s 2ms/step - loss: 0.0020\n",
            "Epoch 69/100\n",
            "579/579 [==============================] - 1s 2ms/step - loss: 0.0020\n",
            "Epoch 70/100\n",
            "579/579 [==============================] - 1s 2ms/step - loss: 0.0020\n",
            "Epoch 71/100\n",
            "579/579 [==============================] - 1s 2ms/step - loss: 0.0020\n",
            "Epoch 72/100\n",
            "579/579 [==============================] - 1s 2ms/step - loss: 0.0020\n",
            "Epoch 73/100\n",
            "579/579 [==============================] - 1s 2ms/step - loss: 0.0020\n",
            "Epoch 74/100\n",
            "579/579 [==============================] - 1s 2ms/step - loss: 0.0021\n",
            "Epoch 75/100\n",
            "579/579 [==============================] - 1s 2ms/step - loss: 0.0019\n",
            "Epoch 76/100\n",
            "579/579 [==============================] - 1s 2ms/step - loss: 0.0019\n",
            "Epoch 77/100\n",
            "579/579 [==============================] - 1s 2ms/step - loss: 0.0019\n",
            "Epoch 78/100\n",
            "579/579 [==============================] - 1s 2ms/step - loss: 0.0019\n",
            "Epoch 79/100\n",
            "579/579 [==============================] - 1s 2ms/step - loss: 0.0019\n",
            "Epoch 80/100\n",
            "579/579 [==============================] - 1s 2ms/step - loss: 0.0019\n",
            "Epoch 81/100\n",
            "579/579 [==============================] - 1s 2ms/step - loss: 0.0019\n",
            "Epoch 82/100\n",
            "579/579 [==============================] - 1s 2ms/step - loss: 0.0018\n",
            "Epoch 83/100\n",
            "579/579 [==============================] - 1s 2ms/step - loss: 0.0019\n",
            "Epoch 84/100\n",
            "579/579 [==============================] - 1s 2ms/step - loss: 0.0019\n",
            "Epoch 85/100\n",
            "579/579 [==============================] - 1s 2ms/step - loss: 0.0019\n",
            "Epoch 86/100\n",
            "579/579 [==============================] - 1s 2ms/step - loss: 0.0018\n",
            "Epoch 87/100\n",
            "579/579 [==============================] - 1s 2ms/step - loss: 0.0018\n",
            "Epoch 88/100\n",
            "579/579 [==============================] - 1s 2ms/step - loss: 0.0018\n",
            "Epoch 89/100\n",
            "579/579 [==============================] - 1s 2ms/step - loss: 0.0018\n",
            "Epoch 90/100\n",
            "579/579 [==============================] - 1s 2ms/step - loss: 0.0018\n",
            "Epoch 91/100\n",
            "579/579 [==============================] - 1s 2ms/step - loss: 0.0018\n",
            "Epoch 92/100\n",
            "579/579 [==============================] - 1s 2ms/step - loss: 0.0018\n",
            "Epoch 93/100\n",
            "579/579 [==============================] - 1s 2ms/step - loss: 0.0017\n",
            "Epoch 94/100\n",
            "579/579 [==============================] - 1s 2ms/step - loss: 0.0017\n",
            "Epoch 95/100\n",
            "579/579 [==============================] - 1s 2ms/step - loss: 0.0017\n",
            "Epoch 96/100\n",
            "579/579 [==============================] - 1s 2ms/step - loss: 0.0017\n",
            "Epoch 97/100\n",
            "579/579 [==============================] - 1s 2ms/step - loss: 0.0017\n",
            "Epoch 98/100\n",
            "579/579 [==============================] - 1s 2ms/step - loss: 0.0017\n",
            "Epoch 99/100\n",
            "579/579 [==============================] - 1s 2ms/step - loss: 0.0017\n",
            "Epoch 100/100\n",
            "579/579 [==============================] - 1s 2ms/step - loss: 0.0017\n"
          ],
          "name": "stdout"
        },
        {
          "output_type": "execute_result",
          "data": {
            "text/plain": [
              "<keras.callbacks.History at 0x7f916729c6a0>"
            ]
          },
          "metadata": {
            "tags": []
          },
          "execution_count": 39
        }
      ]
    },
    {
      "cell_type": "code",
      "metadata": {
        "id": "Q8DKyOl-0BLf",
        "colab_type": "code",
        "colab": {}
      },
      "source": [
        "### Scaling and transforming data to feed in LSTM #######\n",
        "inputs=data[len(data)-len(price_test)-timestep:]\n",
        "inputs=inputs.values.reshape(-1,1)\n",
        "inputs=scaler.transform(inputs)"
      ],
      "execution_count": 0,
      "outputs": []
    },
    {
      "cell_type": "code",
      "metadata": {
        "id": "mp5KUth70Gft",
        "colab_type": "code",
        "colab": {}
      },
      "source": [
        "x_test=[]\n",
        "for i in range(timestep,inputs.shape[0]):\n",
        "    x_test.append(inputs[i-timestep:i,0])\n",
        "x_test=np.array(x_test)\n",
        "x_test=x_test.reshape(x_test.shape[0],x_test.shape[1],1)"
      ],
      "execution_count": 0,
      "outputs": []
    },
    {
      "cell_type": "code",
      "metadata": {
        "id": "q4O3xjl70Juv",
        "colab_type": "code",
        "colab": {}
      },
      "source": [
        "## Making Predictions using LSTM ####\n",
        "predicted_data=model.predict(x_test)\n",
        "predicted_data=scaler.inverse_transform(predicted_data)"
      ],
      "execution_count": 0,
      "outputs": []
    },
    {
      "cell_type": "code",
      "metadata": {
        "id": "lpRCGkcH0MGl",
        "colab_type": "code",
        "colab": {}
      },
      "source": [
        "data_test=np.array(price_test)\n",
        "data_test=data_test.reshape(len(data_test),1)"
      ],
      "execution_count": 0,
      "outputs": []
    },
    {
      "cell_type": "code",
      "metadata": {
        "id": "PjU02tfu0SMH",
        "colab_type": "code",
        "outputId": "087013cb-a65e-47c4-82da-28d5e0306e0b",
        "colab": {
          "base_uri": "https://localhost:8080/",
          "height": 334
        }
      },
      "source": [
        "plt.figure(figsize=(8,4), dpi=80, facecolor='w', edgecolor='k')\n",
        "plt.plot(data_test,color=\"g\",label=\"true result\")\n",
        "plt.plot(predicted_data,color=\"b\",label=\"predicted result\")\n",
        "plt.legend()\n",
        "plt.xlabel(\"Time(days)\")\n",
        "plt.ylabel(\"Price Ratio Values\")\n",
        "plt.grid(True)\n",
        "plt.show()"
      ],
      "execution_count": 44,
      "outputs": [
        {
          "output_type": "display_data",
          "data": {
            "image/png": "[encoded data removed]",
            "text/plain": [
              "<Figure size 640x320 with 1 Axes>"
            ]
          },
          "metadata": {
            "tags": []
          }
        }
      ]
    },
    {
      "cell_type": "code",
      "metadata": {
        "id": "YD5mE-SEryKS",
        "colab_type": "code",
        "outputId": "2483473f-255e-4f6e-cc00-c62814f06d0b",
        "colab": {
          "base_uri": "https://localhost:8080/",
          "height": 34
        }
      },
      "source": [
        "from sklearn.metrics import mean_squared_error\n",
        "from math import sqrt\n",
        "\n",
        "rms = sqrt(mean_squared_error(data_test, predicted_data))\n",
        "print(rms)"
      ],
      "execution_count": 45,
      "outputs": [
        {
          "output_type": "stream",
          "text": [
            "0.4610579641819545\n"
          ],
          "name": "stdout"
        }
      ]
    }
  ]
}